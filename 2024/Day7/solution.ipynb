{
 "cells": [
  {
   "cell_type": "markdown",
   "metadata": {},
   "source": [
    "Part 1"
   ]
  },
  {
   "cell_type": "code",
   "execution_count": 2,
   "metadata": {},
   "outputs": [
    {
     "name": "stdout",
     "output_type": "stream",
     "text": [
      "945512582195\n"
     ]
    }
   ],
   "source": [
    "file_path = \"input.txt\"\n",
    "\n",
    "eqns = []\n",
    "with open(file_path, \"r\") as f:\n",
    "    for line in f:\n",
    "        res, ops = line.split(':')\n",
    "        res = int(res)\n",
    "        ops = [int(x) for x in ops.strip().split(' ')]\n",
    "        eqns.append((res, ops))\n",
    "\n",
    "def recurse(target, ops, idx, base):\n",
    "    if base > target: return False\n",
    "    if base == target and idx == len(ops):  # Reached target and used all numbers\n",
    "        return True\n",
    "    if idx >= len(ops):  # Ran out of numbers without matching the target\n",
    "        return False\n",
    "    \n",
    "    return (\n",
    "        recurse(target, ops, idx + 1, base + ops[idx]) or\n",
    "        recurse(target, ops, idx + 1, base * ops[idx])\n",
    "    )\n",
    "\n",
    "# Process each equation and compute the sum of valid test values\n",
    "sm = 0\n",
    "for eqn in eqns:\n",
    "    target, ops = eqn\n",
    "    if len(ops) > 0 and recurse(target, ops, 1, ops[0]):  # Start recursion\n",
    "        sm += target\n",
    "\n",
    "print(sm)"
   ]
  },
  {
   "cell_type": "markdown",
   "metadata": {},
   "source": [
    "Part 2"
   ]
  },
  {
   "cell_type": "code",
   "execution_count": 1,
   "metadata": {},
   "outputs": [
    {
     "name": "stdout",
     "output_type": "stream",
     "text": [
      "271691107779347\n"
     ]
    }
   ],
   "source": [
    "file_path = \"input.txt\"\n",
    "\n",
    "eqns = []\n",
    "with open(file_path, \"r\") as f:\n",
    "    for line in f:\n",
    "        res, ops = line.split(':')\n",
    "        res = int(res)\n",
    "        ops = [int(x) for x in ops.strip().split(' ')]\n",
    "        eqns.append((res, ops))\n",
    "\n",
    "def recurse(target, ops, idx, base):\n",
    "    if base > target: return False\n",
    "    if base == target and idx == len(ops):  # Reached target and used all numbers\n",
    "        return True\n",
    "    if idx >= len(ops):  # Ran out of numbers without matching the target\n",
    "        return False\n",
    "    \n",
    "    return (\n",
    "        recurse(target, ops, idx + 1, base + ops[idx]) or\n",
    "        recurse(target, ops, idx + 1, base * ops[idx]) or\n",
    "        recurse(target, ops, idx + 1, int(str(base) + str(ops[idx])))\n",
    "    )\n",
    "\n",
    "# Process each equation and compute the sum of valid test values\n",
    "sm = 0\n",
    "for eqn in eqns:\n",
    "    target, ops = eqn\n",
    "    if len(ops) > 0 and recurse(target, ops, 1, ops[0]):  # Start recursion\n",
    "        sm += target\n",
    "\n",
    "print(sm)"
   ]
  },
  {
   "cell_type": "code",
   "execution_count": null,
   "metadata": {},
   "outputs": [],
   "source": []
  }
 ],
 "metadata": {
  "kernelspec": {
   "display_name": "env",
   "language": "python",
   "name": "python3"
  },
  "language_info": {
   "codemirror_mode": {
    "name": "ipython",
    "version": 3
   },
   "file_extension": ".py",
   "mimetype": "text/x-python",
   "name": "python",
   "nbconvert_exporter": "python",
   "pygments_lexer": "ipython3",
   "version": "3.13.0"
  }
 },
 "nbformat": 4,
 "nbformat_minor": 2
}
