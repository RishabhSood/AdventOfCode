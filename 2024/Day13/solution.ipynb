{
 "cells": [
  {
   "cell_type": "markdown",
   "metadata": {},
   "source": [
    "Input"
   ]
  },
  {
   "cell_type": "code",
   "execution_count": 28,
   "metadata": {},
   "outputs": [],
   "source": [
    "file_path = \"input.txt\"  # Path to the input file\n",
    "\n",
    "with open(file_path, \"r\") as f:\n",
    "    data = f.read()\n",
    "\n",
    "machines = [machine.split('\\n') for machine in data.split('\\n\\n')]\n",
    "\n",
    "ops_target = []\n",
    "for machine in machines:\n",
    "    ops_target.append([\n",
    "        [int(elem.strip().split('+')[1]) for elem in machine[0].split(':')[1].strip().split(',')],\n",
    "        [int(elem.strip().split('+')[1]) for elem in machine[1].split(':')[1].strip().split(',')],\n",
    "        [int(elem.strip().split('=')[1]) for elem in machine[2].split(':')[1].strip().split(',')]\n",
    "    ])"
   ]
  },
  {
   "cell_type": "markdown",
   "metadata": {},
   "source": [
    "Part 1"
   ]
  },
  {
   "cell_type": "code",
   "execution_count": 14,
   "metadata": {},
   "outputs": [
    {
     "data": {
      "text/plain": [
       "29201"
      ]
     },
     "execution_count": 14,
     "metadata": {},
     "output_type": "execute_result"
    }
   ],
   "source": [
    "from sympy import symbols, Eq, solve\n",
    "from sympy.core.numbers import Integer\n",
    "x, y = symbols('x y')\n",
    "\n",
    "sm = 0\n",
    "for op_t in ops_target:\n",
    "    eq1 = Eq(op_t[0][0]*x + op_t[1][0]*y, op_t[2][0])\n",
    "    eq2 = Eq(op_t[0][1]*x + op_t[1][1]*y, op_t[2][1])\n",
    "    solution = solve((eq1, eq2), (x, y))\n",
    "    if isinstance(solution[x], Integer) and int(solution[x]) <= 100 and isinstance(solution[y], Integer) and int(solution[y]) <= 100:\n",
    "        sm += int(solution[x])*3 + int(solution[y])\n",
    "\n",
    "sm"
   ]
  },
  {
   "cell_type": "markdown",
   "metadata": {},
   "source": [
    "Part 2"
   ]
  },
  {
   "cell_type": "code",
   "execution_count": 31,
   "metadata": {},
   "outputs": [
    {
     "data": {
      "text/plain": [
       "875318608908"
      ]
     },
     "execution_count": 31,
     "metadata": {},
     "output_type": "execute_result"
    }
   ],
   "source": [
    "from sympy import symbols, Eq, solve\n",
    "from sympy.core.numbers import Integer\n",
    "x, y = symbols('x y')\n",
    "\n",
    "sm = 0\n",
    "for op_t in ops_target:\n",
    "    eq1 = Eq(op_t[0][0]*x + op_t[1][0]*y, 10000000000000 + op_t[2][0])\n",
    "    eq2 = Eq(op_t[0][1]*x + op_t[1][1]*y, 10000000000000 + op_t[2][1])\n",
    "    solution = solve((eq1, eq2), (x, y))\n",
    "    if isinstance(solution[x], Integer) and isinstance(solution[y], Integer):\n",
    "        sm += int(solution[x])*3 + int(solution[y])\n",
    "\n",
    "sm"
   ]
  }
 ],
 "metadata": {
  "kernelspec": {
   "display_name": "env",
   "language": "python",
   "name": "python3"
  },
  "language_info": {
   "codemirror_mode": {
    "name": "ipython",
    "version": 3
   },
   "file_extension": ".py",
   "mimetype": "text/x-python",
   "name": "python",
   "nbconvert_exporter": "python",
   "pygments_lexer": "ipython3",
   "version": "3.11.7"
  }
 },
 "nbformat": 4,
 "nbformat_minor": 2
}
