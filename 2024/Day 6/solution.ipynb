{
 "cells": [
  {
   "cell_type": "markdown",
   "metadata": {},
   "source": [
    "Part 1"
   ]
  },
  {
   "cell_type": "code",
   "execution_count": 4,
   "metadata": {},
   "outputs": [
    {
     "data": {
      "text/plain": [
       "5305"
      ]
     },
     "execution_count": 4,
     "metadata": {},
     "output_type": "execute_result"
    }
   ],
   "source": [
    "def simulate(grid, startX, startY, start_dir):\n",
    "    m, n = len(grid), len(grid[0])\n",
    "    dx = [-1, 0, 1, 0]  # Up, Right, Down, Left\n",
    "    dy = [0, 1, 0, -1]\n",
    "\n",
    "    visited = set()\n",
    "    visited_cells = set()\n",
    "    x, y, direction = startX, startY, start_dir\n",
    "\n",
    "    while True:\n",
    "        if (x, y, direction) in visited:\n",
    "            break  # Cycle detected\n",
    "        visited.add((x, y, direction))\n",
    "        visited_cells.add((x, y))\n",
    "\n",
    "        nx, ny = x + dx[direction], y + dy[direction]\n",
    "\n",
    "        # Check if guard exits the grid\n",
    "        if nx < 0 or nx >= m or ny < 0 or ny >= n:\n",
    "            break\n",
    "        if grid[nx][ny] == '#':\n",
    "            direction = (direction + 1) % 4  # Turn clockwise\n",
    "        else:\n",
    "            x, y = nx, ny  # Move forward\n",
    "    \n",
    "    return len(visited_cells)\n",
    "\n",
    "file_path = \"input.txt\"\n",
    "with open(file_path, \"r\") as f:\n",
    "    grid = [line.strip() for line in f]\n",
    "\n",
    "m, n = len(grid), len(grid[0])\n",
    "guardX, guardY = -1, -1\n",
    "\n",
    "# Locate the guard's starting position\n",
    "for i in range(m):\n",
    "    for j in range(n):\n",
    "        if grid[i][j] == '^':\n",
    "            guardX, guardY = i, j\n",
    "            break\n",
    "    if guardX != -1:\n",
    "        break\n",
    "\n",
    "simulate(grid, guardX, guardY, 0)"
   ]
  },
  {
   "cell_type": "markdown",
   "metadata": {},
   "source": [
    "Part 2"
   ]
  },
  {
   "cell_type": "code",
   "execution_count": 3,
   "metadata": {},
   "outputs": [
    {
     "name": "stderr",
     "output_type": "stream",
     "text": [
      "100%|██████████| 130/130 [00:20<00:00,  6.33it/s]"
     ]
    },
    {
     "name": "stdout",
     "output_type": "stream",
     "text": [
      "2143\n"
     ]
    },
    {
     "name": "stderr",
     "output_type": "stream",
     "text": [
      "\n"
     ]
    }
   ],
   "source": [
    "from tqdm import tqdm\n",
    "\n",
    "def simulate(grid, startX, startY, start_dir):\n",
    "    m, n = len(grid), len(grid[0])\n",
    "    dx = [-1, 0, 1, 0]  # Up, Right, Down, Left\n",
    "    dy = [0, 1, 0, -1]\n",
    "\n",
    "    visited = set()\n",
    "    x, y, direction = startX, startY, start_dir\n",
    "\n",
    "    while True:\n",
    "        if (x, y, direction) in visited:\n",
    "            return True  # Cycle detected\n",
    "        visited.add((x, y, direction))\n",
    "\n",
    "        nx, ny = x + dx[direction], y + dy[direction]\n",
    "\n",
    "        # Check if guard exits the grid\n",
    "        if nx < 0 or nx >= m or ny < 0 or ny >= n:\n",
    "            return False\n",
    "        if grid[nx][ny] == '#':\n",
    "            direction = (direction + 1) % 4  # Turn clockwise\n",
    "        else:\n",
    "            x, y = nx, ny  # Move forward\n",
    "\n",
    "\n",
    "def count_obstacle_placements(grid):\n",
    "    m, n = len(grid), len(grid[0])\n",
    "    guardX, guardY = -1, -1\n",
    "\n",
    "    # Locate the guard's starting position\n",
    "    for i in range(m):\n",
    "        for j in range(n):\n",
    "            if grid[i][j] == '^':\n",
    "                guardX, guardY = i, j\n",
    "                break\n",
    "        if guardX != -1:\n",
    "            break\n",
    "\n",
    "    result = 0\n",
    "\n",
    "    # Try placing obstacles in all valid empty cells\n",
    "    for i in tqdm(range(m)):\n",
    "        for j in range(n):\n",
    "            if grid[i][j] == '.' and (i != guardX or j != guardY):\n",
    "                grid[i] = grid[i][:j] + '#' + grid[i][j + 1:]  # Place obstacle\n",
    "                if simulate(grid, guardX, guardY, 0):\n",
    "                    result += 1\n",
    "                grid[i] = grid[i][:j] + '.' + grid[i][j + 1:]  # Remove obstacle\n",
    "\n",
    "    return result\n",
    "\n",
    "\n",
    "file_path = \"input.txt\"\n",
    "with open(file_path, \"r\") as f:\n",
    "    grid = [line.strip() for line in f]\n",
    "\n",
    "result = count_obstacle_placements(grid)\n",
    "print(result)"
   ]
  }
 ],
 "metadata": {
  "kernelspec": {
   "display_name": "env",
   "language": "python",
   "name": "python3"
  },
  "language_info": {
   "codemirror_mode": {
    "name": "ipython",
    "version": 3
   },
   "file_extension": ".py",
   "mimetype": "text/x-python",
   "name": "python",
   "nbconvert_exporter": "python",
   "pygments_lexer": "ipython3",
   "version": "3.13.0"
  }
 },
 "nbformat": 4,
 "nbformat_minor": 2
}
