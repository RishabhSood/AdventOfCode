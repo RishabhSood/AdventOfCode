{
 "cells": [
  {
   "cell_type": "markdown",
   "metadata": {},
   "source": [
    "Input"
   ]
  },
  {
   "cell_type": "code",
   "execution_count": 27,
   "metadata": {},
   "outputs": [],
   "source": [
    "file_path = \"input.txt\"  # Path to the input file\n",
    "\n",
    "with open(file_path, \"r\") as f:\n",
    "    data = f.read()\n",
    "\n",
    "print_order, print_queues = data.split('\\n\\n')\n",
    "print_order = set([tuple([int(y) for y in x.split('|')]) for x in print_order.split('\\n')])\n",
    "print_queues = [[int(y) for y in q.split(',')] for q in print_queues.split('\\n')]"
   ]
  },
  {
   "cell_type": "markdown",
   "metadata": {},
   "source": [
    "Part 1"
   ]
  },
  {
   "cell_type": "code",
   "execution_count": 28,
   "metadata": {},
   "outputs": [
    {
     "data": {
      "text/plain": [
       "5991"
      ]
     },
     "execution_count": 28,
     "metadata": {},
     "output_type": "execute_result"
    }
   ],
   "source": [
    "sm = 0\n",
    "\n",
    "for q in print_queues:\n",
    "    valid = True\n",
    "    for i in range(len(q) - 1):\n",
    "        if (q[i+1], q[i]) in print_order:\n",
    "            valid = False\n",
    "            break\n",
    "    if valid: sm += q[int((len(q))/2)]\n",
    "\n",
    "sm"
   ]
  },
  {
   "cell_type": "markdown",
   "metadata": {},
   "source": [
    "Part 2"
   ]
  },
  {
   "cell_type": "code",
   "execution_count": 29,
   "metadata": {},
   "outputs": [
    {
     "data": {
      "text/plain": [
       "5479"
      ]
     },
     "execution_count": 29,
     "metadata": {},
     "output_type": "execute_result"
    }
   ],
   "source": [
    "from itertools import permutations\n",
    "sm = 0\n",
    "\n",
    "def is_valid(q):\n",
    "    for i in range(len(q) - 1):\n",
    "        if (q[i+1], q[i]) in print_order:\n",
    "            return False\n",
    "    return True\n",
    "    \n",
    "for q in print_queues:\n",
    "    val = is_valid(q)\n",
    "    if not val:\n",
    "        valid = False\n",
    "        while not valid:\n",
    "            valid = True\n",
    "            for i in range(len(q) - 1):\n",
    "                if (q[i+1], q[i]) in print_order:\n",
    "                    q[i+1], q[i] = q[i], q[i+1]\n",
    "                    valid = False\n",
    "        sm += q[int((len(q))/2)]\n",
    "\n",
    "sm"
   ]
  }
 ],
 "metadata": {
  "kernelspec": {
   "display_name": "env",
   "language": "python",
   "name": "python3"
  },
  "language_info": {
   "codemirror_mode": {
    "name": "ipython",
    "version": 3
   },
   "file_extension": ".py",
   "mimetype": "text/x-python",
   "name": "python",
   "nbconvert_exporter": "python",
   "pygments_lexer": "ipython3",
   "version": "3.13.0"
  }
 },
 "nbformat": 4,
 "nbformat_minor": 2
}
