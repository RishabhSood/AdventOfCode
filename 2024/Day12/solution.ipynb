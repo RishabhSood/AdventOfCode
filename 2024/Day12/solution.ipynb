{
 "cells": [
  {
   "cell_type": "markdown",
   "metadata": {},
   "source": [
    "Input"
   ]
  },
  {
   "cell_type": "code",
   "execution_count": 60,
   "metadata": {},
   "outputs": [],
   "source": [
    "file_path = \"input.txt\"  # Path to the input file\n",
    "\n",
    "# Parse the input\n",
    "input_map = []\n",
    "with open(file_path, \"r\") as f:\n",
    "    for line in f:\n",
    "        input_map.append([c for c in line.strip()])\n",
    "\n",
    "m = len(input_map)\n",
    "n = len(input_map[0])"
   ]
  },
  {
   "cell_type": "markdown",
   "metadata": {},
   "source": [
    "Part 1"
   ]
  },
  {
   "cell_type": "code",
   "execution_count": 36,
   "metadata": {},
   "outputs": [
    {
     "data": {
      "text/plain": [
       "1370100"
      ]
     },
     "execution_count": 36,
     "metadata": {},
     "output_type": "execute_result"
    }
   ],
   "source": [
    "source = set()\n",
    "for i in range(m): \n",
    "    for j in range(n): \n",
    "        source.add((i, j))\n",
    "\n",
    "dirs = [[0, -1], [0, 1], [1, 0], [-1, 0]]\n",
    "\n",
    "def dfs(i, j, ch):\n",
    "    source.remove((i, j))\n",
    "    ar, pr = 1, 0\n",
    "    for dir in dirs:\n",
    "        ni, nj = i + dir[0], j + dir[1]\n",
    "        if 0 <= ni < m and 0 <= nj < n:\n",
    "            if (ni, nj) in source and input_map[ni][nj] == ch:\n",
    "                nar, npr = dfs(ni, nj, ch)\n",
    "                ar += nar\n",
    "                pr += npr\n",
    "            elif input_map[ni][nj] != ch:\n",
    "                pr += 1\n",
    "        else:\n",
    "            pr += 1\n",
    "    return ar, pr\n",
    "\n",
    "sm = 0         \n",
    "while source:\n",
    "    parent = next(iter(source))\n",
    "    ar, pr = dfs(parent[0], parent[1], input_map[parent[0]][parent[1]])\n",
    "    sm += ar * pr\n",
    "\n",
    "sm"
   ]
  },
  {
   "cell_type": "markdown",
   "metadata": {},
   "source": [
    "Part 2"
   ]
  },
  {
   "cell_type": "code",
   "execution_count": 61,
   "metadata": {},
   "outputs": [
    {
     "data": {
      "text/plain": [
       "818286"
      ]
     },
     "execution_count": 61,
     "metadata": {},
     "output_type": "execute_result"
    }
   ],
   "source": [
    "source = set()\n",
    "for i in range(m): \n",
    "    for j in range(n): \n",
    "        source.add((i, j))\n",
    "\n",
    "dirs = [[0, -1], [0, 1], [1, 0], [-1, 0]]\n",
    "\n",
    "def dfs(i, j, ch, pr):\n",
    "    source.remove((i, j))\n",
    "    ar = 1\n",
    "    for dir in dirs:\n",
    "        ni, nj = i + dir[0], j + dir[1]\n",
    "        if 0 <= ni < m and 0 <= nj < n:\n",
    "            if (ni, nj) in source and input_map[ni][nj] == ch:\n",
    "                nar = dfs(ni, nj, ch, pr)\n",
    "                ar += nar\n",
    "            elif input_map[ni][nj] != ch:\n",
    "                pr.add((i, j, dir[0], dir[1]))\n",
    "        else:\n",
    "            pr.add((i, j, dir[0], dir[1]))\n",
    "    return ar\n",
    "\n",
    "sm = 0         \n",
    "while source:\n",
    "    parent = next(iter(source))\n",
    "    pr = set()\n",
    "    ar = dfs(parent[0], parent[1], input_map[parent[0]][parent[1]], pr)\n",
    "    pr_fence = list(pr)\n",
    "    for fence in pr_fence:\n",
    "        if fence[3] != 0:\n",
    "            prev_fence = (fence[0] - 1, fence[1], fence[2], fence[3])\n",
    "            if prev_fence in pr: pr.remove(prev_fence)\n",
    "        elif fence[2] != 0:\n",
    "            prev_fence = (fence[0], fence[1] - 1, fence[2], fence[3])\n",
    "            if prev_fence in pr: pr.remove(prev_fence)\n",
    "    sm += ar * len(pr)\n",
    "\n",
    "sm"
   ]
  }
 ],
 "metadata": {
  "kernelspec": {
   "display_name": "env",
   "language": "python",
   "name": "python3"
  },
  "language_info": {
   "codemirror_mode": {
    "name": "ipython",
    "version": 3
   },
   "file_extension": ".py",
   "mimetype": "text/x-python",
   "name": "python",
   "nbconvert_exporter": "python",
   "pygments_lexer": "ipython3",
   "version": "3.11.7"
  }
 },
 "nbformat": 4,
 "nbformat_minor": 2
}
