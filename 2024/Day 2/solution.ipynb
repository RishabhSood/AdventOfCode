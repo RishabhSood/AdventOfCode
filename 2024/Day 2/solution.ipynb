{
 "cells": [
  {
   "cell_type": "markdown",
   "metadata": {},
   "source": [
    "Input"
   ]
  },
  {
   "cell_type": "code",
   "execution_count": 11,
   "metadata": {},
   "outputs": [],
   "source": [
    "file_path = \"input.txt\"  # Path to the input file\n",
    "\n",
    "with open(file_path, \"r\") as f:\n",
    "    data = f.read()\n",
    "\n",
    "lines = data.split('\\n')\n",
    "lines = [[int(x) for x in line.split(' ')] for line in lines]"
   ]
  },
  {
   "cell_type": "markdown",
   "metadata": {},
   "source": [
    "Part 1"
   ]
  },
  {
   "cell_type": "code",
   "execution_count": 12,
   "metadata": {},
   "outputs": [
    {
     "data": {
      "text/plain": [
       "282"
      ]
     },
     "execution_count": 12,
     "metadata": {},
     "output_type": "execute_result"
    }
   ],
   "source": [
    "cnt = 0\n",
    "\n",
    "def check_line_validity(line):\n",
    "    increase = line[0] > line[1]\n",
    "    for i in range(len(line) - 1):\n",
    "        if (line[i] > line[i+1]) != increase or line[i] == line[i+1] or abs(line[i] - line[i+1]) > 3:\n",
    "            return 0\n",
    "    return 1\n",
    "    \n",
    "sm = 0\n",
    "for line in lines: \n",
    "    sm += check_line_validity(line)\n",
    "sm"
   ]
  },
  {
   "cell_type": "markdown",
   "metadata": {},
   "source": [
    "Part 2"
   ]
  },
  {
   "cell_type": "code",
   "execution_count": 14,
   "metadata": {},
   "outputs": [
    {
     "data": {
      "text/plain": [
       "349"
      ]
     },
     "execution_count": 14,
     "metadata": {},
     "output_type": "execute_result"
    }
   ],
   "source": [
    "cnt = 0\n",
    "\n",
    "def check_line_validity(line):\n",
    "    increase = line[0] > line[1]\n",
    "    for i in range(len(line) - 1):\n",
    "        if (line[i] > line[i+1]) != increase or line[i] == line[i+1] or abs(line[i] - line[i+1]) > 3:\n",
    "            return 0\n",
    "    return 1\n",
    "    \n",
    "sm = 0\n",
    "for line in lines: \n",
    "    val = check_line_validity(line)\n",
    "    if val == 1: sm += 1\n",
    "    else:\n",
    "        for i in range(len(line)):\n",
    "            new_list = line[:i] + line[i+1:]\n",
    "            if check_line_validity(new_list):\n",
    "                sm += 1\n",
    "                break\n",
    "            \n",
    "sm"
   ]
  }
 ],
 "metadata": {
  "kernelspec": {
   "display_name": "env",
   "language": "python",
   "name": "python3"
  },
  "language_info": {
   "codemirror_mode": {
    "name": "ipython",
    "version": 3
   },
   "file_extension": ".py",
   "mimetype": "text/x-python",
   "name": "python",
   "nbconvert_exporter": "python",
   "pygments_lexer": "ipython3",
   "version": "3.13.0"
  }
 },
 "nbformat": 4,
 "nbformat_minor": 2
}
