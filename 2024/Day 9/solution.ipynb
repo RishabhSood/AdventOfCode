{
 "cells": [
  {
   "cell_type": "markdown",
   "metadata": {},
   "source": [
    "Input"
   ]
  },
  {
   "cell_type": "code",
   "execution_count": 3,
   "metadata": {},
   "outputs": [],
   "source": [
    "file_path = \"input.txt\"  # Path to the input file\n",
    "\n",
    "with open(file_path, \"r\") as f:\n",
    "    diskrep = f.read()"
   ]
  },
  {
   "cell_type": "markdown",
   "metadata": {},
   "source": [
    "Part 1"
   ]
  },
  {
   "cell_type": "code",
   "execution_count": 12,
   "metadata": {},
   "outputs": [
    {
     "name": "stdout",
     "output_type": "stream",
     "text": [
      "6463499258318\n"
     ]
    }
   ],
   "source": [
    "expanded_string = []\n",
    "id = 0\n",
    "\n",
    "for i, elem in enumerate(diskrep):\n",
    "    if elem == '0': continue\n",
    "    if i%2 == 0: \n",
    "        expanded_string.extend([id]*int(elem))\n",
    "        id += 1\n",
    "    else:\n",
    "        expanded_string.extend([-1]*int(elem))\n",
    "\n",
    "l = 0\n",
    "r = len(expanded_string) - 1\n",
    "\n",
    "while True:\n",
    "    while r >= 0 and expanded_string[r] == -1: r -= 1\n",
    "    if r < 0: break\n",
    "    while l < r and expanded_string[l] != -1: l += 1\n",
    "    if l < r:\n",
    "        expanded_string[l], expanded_string[r] = expanded_string[r], expanded_string[l]\n",
    "    else:\n",
    "        r -= 1\n",
    "\n",
    "sm = 0\n",
    "for i, elem in enumerate(expanded_string):\n",
    "    if(elem == -1): break\n",
    "    sm += i*elem\n",
    "\n",
    "print(sm)"
   ]
  },
  {
   "cell_type": "markdown",
   "metadata": {},
   "source": [
    "Part 2"
   ]
  },
  {
   "cell_type": "code",
   "execution_count": 13,
   "metadata": {},
   "outputs": [
    {
     "name": "stdout",
     "output_type": "stream",
     "text": [
      "6493634986625\n"
     ]
    }
   ],
   "source": [
    "expanded_string = []\n",
    "id = 0\n",
    "\n",
    "for i, elem in enumerate(diskrep):\n",
    "    if elem == '0': continue\n",
    "    if i%2 == 0: \n",
    "        expanded_string.append([id, int(elem)])\n",
    "        id += 1\n",
    "    else:\n",
    "        expanded_string.append([-1, int(elem)])\n",
    "\n",
    "r = len(expanded_string) - 1\n",
    "\n",
    "while True:\n",
    "    while r >= 0 and expanded_string[r][0] == -1: r -= 1\n",
    "    if r < 0: break\n",
    "    l = 0\n",
    "    while l < r and (expanded_string[l][0] != -1 or expanded_string[l][1] < expanded_string[r][1]): l += 1\n",
    "    if l < r:\n",
    "        elem, cnt = expanded_string[r]\n",
    "        expanded_string[r][0] = -1\n",
    "        expanded_string[l][1] -= cnt\n",
    "        expanded_string.insert(l, [elem, cnt])\n",
    "    else:\n",
    "        r -= 1\n",
    "\n",
    "verbose_string = []\n",
    "for elem in expanded_string:\n",
    "    verbose_string.extend([elem[0] for i in range(elem[1])])\n",
    "\n",
    "sm = 0\n",
    "for i, elem in enumerate(verbose_string):\n",
    "    if(elem == -1): continue\n",
    "    sm += i*elem\n",
    "\n",
    "print(sm)"
   ]
  }
 ],
 "metadata": {
  "kernelspec": {
   "display_name": "env",
   "language": "python",
   "name": "python3"
  },
  "language_info": {
   "codemirror_mode": {
    "name": "ipython",
    "version": 3
   },
   "file_extension": ".py",
   "mimetype": "text/x-python",
   "name": "python",
   "nbconvert_exporter": "python",
   "pygments_lexer": "ipython3",
   "version": "3.13.0"
  }
 },
 "nbformat": 4,
 "nbformat_minor": 2
}
