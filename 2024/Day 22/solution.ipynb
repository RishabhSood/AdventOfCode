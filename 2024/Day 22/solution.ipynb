{
 "cells": [
  {
   "cell_type": "code",
   "execution_count": 52,
   "metadata": {},
   "outputs": [],
   "source": [
    "file_path = \"input.txt\"  # Path to the input file\n",
    "\n",
    "with open(file_path, \"r\") as f:\n",
    "    data = f.read()\n",
    "\n",
    "codes = [int(x) for x in data.split('\\n')]"
   ]
  },
  {
   "cell_type": "code",
   "execution_count": 57,
   "metadata": {},
   "outputs": [],
   "source": [
    "def mix(secret, number):\n",
    "    return secret ^ number\n",
    "\n",
    "def prune(secret):\n",
    "    return secret%16777216\n",
    "\n",
    "def process(secret):\n",
    "    secret = mix(secret, secret*64)\n",
    "    secret = prune(secret)\n",
    "    secret = mix(secret, secret // 32)\n",
    "    secret = prune(secret)\n",
    "    secret = mix(secret, secret*2048)\n",
    "    secret = prune(secret)\n",
    "    return secret"
   ]
  },
  {
   "cell_type": "markdown",
   "metadata": {},
   "source": [
    "Part 1 ✅"
   ]
  },
  {
   "cell_type": "code",
   "execution_count": 58,
   "metadata": {},
   "outputs": [],
   "source": [
    "def prices2k(seed):\n",
    "    prices = [seed]\n",
    "    secret = seed\n",
    "\n",
    "    for _ in range(2000):\n",
    "        secret = process(secret)\n",
    "        prices.append(secret)\n",
    "    return prices"
   ]
  },
  {
   "cell_type": "code",
   "execution_count": 59,
   "metadata": {},
   "outputs": [
    {
     "data": {
      "text/plain": [
       "13185239446"
      ]
     },
     "execution_count": 59,
     "metadata": {},
     "output_type": "execute_result"
    }
   ],
   "source": [
    "sm = 0\n",
    "for code in codes:\n",
    "    sm += prices2k(code)[-1]\n",
    "sm"
   ]
  },
  {
   "cell_type": "markdown",
   "metadata": {},
   "source": [
    "Part 2 ✅"
   ]
  },
  {
   "cell_type": "code",
   "execution_count": 60,
   "metadata": {},
   "outputs": [
    {
     "data": {
      "text/plain": [
       "1501"
      ]
     },
     "execution_count": 60,
     "metadata": {},
     "output_type": "execute_result"
    }
   ],
   "source": [
    "seq_sum = {}    # Dictionary to sum up max values for each sequence across codes\n",
    "\n",
    "for code in codes:\n",
    "    secret = code\n",
    "    prices = [(secret % 10, 0)]\n",
    "\n",
    "    # Generate price differences\n",
    "    for _ in range(2000):\n",
    "        secret = process(secret)\n",
    "        prices.append((secret % 10, secret % 10 - prices[-1][0]))\n",
    "\n",
    "    prices = prices[1:]\n",
    "\n",
    "    # Temporary dictionary for the current code to collect max values\n",
    "    current_max = {}\n",
    "\n",
    "    for i in range(len(prices) - 3):\n",
    "        seq_rep = f\"{prices[i][1]}|{prices[i+1][1]}|{prices[i+2][1]}|{prices[i+3][1]}\"\n",
    "\n",
    "        # Track max value for this sequence within the current code\n",
    "        if seq_rep not in current_max: current_max[seq_rep] = prices[i+3][0]\n",
    "\n",
    "    # Update the global sum dictionary without modifying the max values\n",
    "    for seq, max_val in current_max.items():\n",
    "        if seq not in seq_sum:\n",
    "            seq_sum[seq] = 0\n",
    "        seq_sum[seq] += max_val\n",
    "\n",
    "max(seq_sum.values())"
   ]
  }
 ],
 "metadata": {
  "kernelspec": {
   "display_name": "env",
   "language": "python",
   "name": "python3"
  },
  "language_info": {
   "codemirror_mode": {
    "name": "ipython",
    "version": 3
   },
   "file_extension": ".py",
   "mimetype": "text/x-python",
   "name": "python",
   "nbconvert_exporter": "python",
   "pygments_lexer": "ipython3",
   "version": "3.13.0"
  }
 },
 "nbformat": 4,
 "nbformat_minor": 2
}
