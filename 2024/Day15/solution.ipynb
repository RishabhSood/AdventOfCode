{
 "cells": [
  {
   "cell_type": "markdown",
   "metadata": {},
   "source": [
    "Input"
   ]
  },
  {
   "cell_type": "code",
   "execution_count": 1,
   "metadata": {},
   "outputs": [],
   "source": [
    "file_path = \"input.txt\"  # Path to the input file\n",
    "\n",
    "with open(file_path, \"r\") as f:\n",
    "    data = f.read()"
   ]
  },
  {
   "cell_type": "markdown",
   "metadata": {},
   "source": [
    "Part 1"
   ]
  },
  {
   "cell_type": "code",
   "execution_count": 44,
   "metadata": {},
   "outputs": [
    {
     "name": "stdout",
     "output_type": "stream",
     "text": [
      "#######\n",
      "#@..#.#\n",
      "#.O...#\n",
      "#..O..#\n",
      "#..O..#\n",
      "#.....#\n",
      "#######\n",
      "908\n"
     ]
    }
   ],
   "source": [
    "warehouse, moves = data.split('\\n\\n')\n",
    "warehouse = [[x for x in row]for row in warehouse.split('\\n')]\n",
    "moves = ''.join(moves.split('\\n'))\n",
    "\n",
    "m = len(warehouse)\n",
    "n = len(warehouse[0])\n",
    "\n",
    "move_map = {\n",
    "    '^': (-1, 0),\n",
    "    'v': (1, 0),\n",
    "    '<': (0, -1),\n",
    "    '>': (0, 1)\n",
    "}\n",
    "\n",
    "# get robot initial position\n",
    "robot_pos = (0, 0)\n",
    "for i in range(m):\n",
    "    for j in range(n):\n",
    "        if warehouse[i][j] == '@':\n",
    "            robot_pos = (i, j)\n",
    "            break\n",
    "\n",
    "# simulate grid\n",
    "for move in moves:\n",
    "    move_dir = move_map[move]\n",
    "    ni, nj = robot_pos[0] + move_dir[0], robot_pos[1] + move_dir[1]\n",
    "    if warehouse[ni][nj] == '.':\n",
    "        warehouse[ni][nj] = '@'\n",
    "        warehouse[robot_pos[0]][robot_pos[1]] = '.'\n",
    "        robot_pos = (ni, nj)\n",
    "        continue\n",
    "    elif warehouse[ni][nj] == '#':\n",
    "        continue\n",
    "    \n",
    "    while warehouse[ni][nj] == 'O':\n",
    "        ni, nj = ni + move_dir[0], nj + move_dir[1]\n",
    "\n",
    "    if warehouse[ni][nj] == '#': \n",
    "        continue # can't move blocked\n",
    "    else: # move all boxes!\n",
    "        while (ni, nj) != robot_pos:\n",
    "            warehouse[ni][nj] = warehouse[ni-move_dir[0]][nj-move_dir[1]]\n",
    "            ni -= move_dir[0]\n",
    "            nj -= move_dir[1]\n",
    "        warehouse[robot_pos[0]][robot_pos[1]] = '.'\n",
    "        robot_pos = (robot_pos[0] + move_dir[0], robot_pos[1] + move_dir[1])\n",
    "\n",
    "print('\\n'.join(''.join(row) for row in warehouse))\n",
    "\n",
    "score = 0\n",
    "for i in range(m):\n",
    "    for j in range(n):\n",
    "        if warehouse[i][j] == 'O':\n",
    "            score += i*100 + j\n",
    "\n",
    "print(score)"
   ]
  },
  {
   "cell_type": "markdown",
   "metadata": {},
   "source": [
    "Part 2"
   ]
  },
  {
   "cell_type": "code",
   "execution_count": 2,
   "metadata": {},
   "outputs": [
    {
     "data": {
      "text/plain": [
       "1576353"
      ]
     },
     "execution_count": 2,
     "metadata": {},
     "output_type": "execute_result"
    }
   ],
   "source": [
    "from IPython.display import clear_output\n",
    "from time import sleep\n",
    "\n",
    "warehouse, moves = data.split('\\n\\n')\n",
    "grid = [[x for x in row]for row in warehouse.split('\\n')]\n",
    "moves = ''.join(moves.split('\\n'))\n",
    "\n",
    "n = len(grid)\n",
    "\n",
    "move_map = {\n",
    "    '^': (-1, 0),\n",
    "    'v': (1, 0),\n",
    "    '<': (0, -1),\n",
    "    '>': (0, 1)\n",
    "}\n",
    "\n",
    "# get robot initial position\n",
    "boxes = []\n",
    "walls = []\n",
    "for i in range(n):\n",
    "    for j in range(n):\n",
    "        if grid[i][j] == '@':\n",
    "            ci, cj = i, j*2\n",
    "        elif grid[i][j] == '#':\n",
    "            walls.append([i, j*2])\n",
    "            walls.append([i, j*2+1])\n",
    "        elif grid[i][j] == 'O':\n",
    "            boxes.append([i, j*2])\n",
    "\n",
    "def print_grid(boxes, walls, robot_pos):\n",
    "    global m, n\n",
    "    grid = [['.']*2*n for _ in range(n)]\n",
    "\n",
    "    for box in boxes:\n",
    "        grid[box[0]][box[1]] = '['\n",
    "        grid[box[0]][box[1] + 1] = ']'\n",
    "    \n",
    "    for wall in walls:\n",
    "        grid[wall[0]][wall[1]] = '#'\n",
    "\n",
    "    grid[robot_pos[0]][robot_pos[1]] = '@'\n",
    "    # clear_output()\n",
    "    print('\\n'.join(''.join(row) for row in grid))\n",
    "    # sleep(0.08)\n",
    "\n",
    "def in_grid(i, j):\n",
    "    return (0 <= i < n) and (0 <= j < 2*n)\n",
    "\n",
    "def move(dir):\n",
    "    global ci, cj, warehouse\n",
    "    newi, newj = ci + dir[0], cj + dir[1]\n",
    "    # if not in_grid(newi, newj): return\n",
    "\n",
    "    if [newi, newj] in walls: return\n",
    "\n",
    "    boxes_to_move = []\n",
    "    if [newi, newj] in boxes: boxes_to_move.append([newi, newj])\n",
    "    if [newi, newj-1] in boxes: boxes_to_move.append([newi, newj-1])\n",
    "\n",
    "    blocked = False\n",
    "    seen = set()\n",
    "\n",
    "    while len(boxes_to_move) > 0:\n",
    "        ti, tj = boxes_to_move.pop()\n",
    "        ni, nj = ti + dir[0], tj + dir[1]\n",
    "\n",
    "        # if not in_grid(ni, nj):\n",
    "        #     blocked = True\n",
    "        #     break\n",
    "        if [ni, nj] in walls or [ni, nj+1] in walls:\n",
    "            blocked = True\n",
    "            break\n",
    "        if (ti, tj) in seen: continue\n",
    "        seen.add((ti, tj))\n",
    "\n",
    "        if [ni, nj] in boxes: boxes_to_move.append([ni, nj])\n",
    "        if [ni, nj+1] in boxes: boxes_to_move.append([ni, nj+1])\n",
    "        if [ni, nj-1] in boxes: boxes_to_move.append([ni, nj-1])\n",
    "    \n",
    "    if blocked: return\n",
    "\n",
    "    for i, box in enumerate(boxes):\n",
    "        if tuple(box) in seen:\n",
    "            boxes[i][0] += dir[0]\n",
    "            boxes[i][1] += dir[1]\n",
    "\n",
    "    ci += dir[0]\n",
    "    cj += dir[1]\n",
    "\n",
    "for dir in moves:\n",
    "    move(move_map[dir])\n",
    "    # print_grid(boxes, walls, (ci, cj))\n",
    "\n",
    "score = 0\n",
    "for box in boxes: score += box[0]*100 + box[1]\n",
    "score"
   ]
  }
 ],
 "metadata": {
  "kernelspec": {
   "display_name": "env",
   "language": "python",
   "name": "python3"
  },
  "language_info": {
   "codemirror_mode": {
    "name": "ipython",
    "version": 3
   },
   "file_extension": ".py",
   "mimetype": "text/x-python",
   "name": "python",
   "nbconvert_exporter": "python",
   "pygments_lexer": "ipython3",
   "version": "3.13.0"
  }
 },
 "nbformat": 4,
 "nbformat_minor": 2
}
