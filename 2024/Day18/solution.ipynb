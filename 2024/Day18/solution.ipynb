{
 "cells": [
  {
   "cell_type": "markdown",
   "metadata": {},
   "source": [
    "Input"
   ]
  },
  {
   "cell_type": "code",
   "execution_count": 41,
   "metadata": {},
   "outputs": [],
   "source": [
    "file_path = \"input.txt\"  # Path to the input file\n",
    "\n",
    "with open(file_path, \"r\") as f:\n",
    "    data = f.read()\n",
    "\n",
    "coord_list = [[int(coord.split(',')[1]), int(coord.split(',')[0])] for coord in data.split('\\n')]"
   ]
  },
  {
   "cell_type": "markdown",
   "metadata": {},
   "source": [
    "Part 1"
   ]
  },
  {
   "cell_type": "code",
   "execution_count": 34,
   "metadata": {},
   "outputs": [
    {
     "name": "stdout",
     "output_type": "stream",
     "text": [
      "500\n"
     ]
    }
   ],
   "source": [
    "trunc_coords = coord_list[:2936]\n",
    "grid = [['.']*71 for _ in range(71)]\n",
    "m = 71\n",
    "\n",
    "for coord in trunc_coords:\n",
    "    i, j = coord\n",
    "    grid[i][j] = '#'\n",
    "\n",
    "from heapq import heappush, heappop \n",
    "\n",
    "dirs = [[0, 1], [-1, 0], [0, -1], [1, 0]]\n",
    "si, sj = 0, 0\n",
    "ei, ej = 70, 70\n",
    "\n",
    "pq = []\n",
    "heappush(pq, (0, si, sj)) # score, curri, currj\n",
    "d_st_en = {}\n",
    "best = None\n",
    "\n",
    "while pq:\n",
    "    sc, ci, cj = heappop(pq)\n",
    "    \n",
    "    if (ci, cj) not in d_st_en: d_st_en[(ci, cj)] = sc\n",
    "    else: continue\n",
    "\n",
    "    if ci == ei and cj == ej and best == None:\n",
    "        best = sc # we could have breaked here for part 1, but as we need shortest path(min score) from start to each cell, thus we don't break here\n",
    "\n",
    "    for dir in dirs:\n",
    "        ni, nj = ci + dir[0], cj + dir[1]\n",
    "        if 0<=ni<m and 0<=nj<m and grid[ni][nj] != '#':\n",
    "            heappush(pq, (sc+1, ni, nj))\n",
    "\n",
    "print(best)"
   ]
  },
  {
   "cell_type": "markdown",
   "metadata": {},
   "source": [
    "Part 2"
   ]
  },
  {
   "cell_type": "code",
   "execution_count": 42,
   "metadata": {},
   "outputs": [
    {
     "name": "stdout",
     "output_type": "stream",
     "text": [
      "18 62\n"
     ]
    }
   ],
   "source": [
    "from heapq import heappush, heappop \n",
    "\n",
    "grid = [['.']*71 for _ in range(71)]\n",
    "m = 71\n",
    "dirs = [[0, 1], [-1, 0], [0, -1], [1, 0]]\n",
    "si, sj = 0, 0\n",
    "ei, ej = 70, 70\n",
    "\n",
    "for coord in coord_list:\n",
    "    i, j = coord\n",
    "    grid[i][j] = '#'\n",
    "\n",
    "    pq = []\n",
    "    heappush(pq, (0, si, sj)) # score, curri, currj\n",
    "    d_st_en = {}\n",
    "    best = None\n",
    "\n",
    "    while pq:\n",
    "        sc, ci, cj = heappop(pq)\n",
    "        \n",
    "        if (ci, cj) not in d_st_en: d_st_en[(ci, cj)] = sc\n",
    "        else: continue\n",
    "\n",
    "        if ci == ei and cj == ej and best == None:\n",
    "            best = sc # we could have breaked here for part 1, but as we need shortest path(min score) from start to each cell, thus we don't break here\n",
    "\n",
    "        for dir in dirs:\n",
    "            ni, nj = ci + dir[0], cj + dir[1]\n",
    "            if 0<=ni<m and 0<=nj<m and grid[ni][nj] != '#':\n",
    "                heappush(pq, (sc+1, ni, nj))\n",
    "\n",
    "    if best == None: \n",
    "        print(coord[1], coord[0])\n",
    "        break"
   ]
  }
 ],
 "metadata": {
  "kernelspec": {
   "display_name": "env",
   "language": "python",
   "name": "python3"
  },
  "language_info": {
   "codemirror_mode": {
    "name": "ipython",
    "version": 3
   },
   "file_extension": ".py",
   "mimetype": "text/x-python",
   "name": "python",
   "nbconvert_exporter": "python",
   "pygments_lexer": "ipython3",
   "version": "3.11.7"
  }
 },
 "nbformat": 4,
 "nbformat_minor": 2
}
