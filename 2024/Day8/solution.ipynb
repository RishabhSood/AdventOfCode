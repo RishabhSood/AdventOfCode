{
 "cells": [
  {
   "cell_type": "code",
   "execution_count": 11,
   "metadata": {},
   "outputs": [],
   "source": [
    "file_path = \"input.txt\"  # Path to the input file\n",
    "\n",
    "# Parse the input\n",
    "input_map = []\n",
    "with open(file_path, \"r\") as f:\n",
    "    for line in f:\n",
    "        input_map.append(line.strip('\\n'))\n",
    "\n",
    "def parse_map(input_map):\n",
    "    antennas = {}\n",
    "    for y, line in enumerate(input_map):\n",
    "        for x, char in enumerate(line):\n",
    "            if char.isalnum():  # Antennas are letters or digits\n",
    "                antennas.setdefault(char, []).append((x, y))\n",
    "    return antennas\n",
    "\n",
    "height = len(input_map)\n",
    "width = len(input_map[0])\n",
    "\n",
    "antennas = parse_map(input_map)"
   ]
  },
  {
   "cell_type": "markdown",
   "metadata": {},
   "source": [
    "Part 1"
   ]
  },
  {
   "cell_type": "code",
   "execution_count": 14,
   "metadata": {},
   "outputs": [
    {
     "name": "stdout",
     "output_type": "stream",
     "text": [
      "Total unique antinode locations: 289\n"
     ]
    }
   ],
   "source": [
    "def calculate_antinodes1(antennas, width, height):\n",
    "    antinodes = set()\n",
    "\n",
    "    for _, positions in antennas.items():\n",
    "        for i, (sx, sy) in enumerate(positions):\n",
    "            for j in range(i+1, len(positions)):\n",
    "                ex, ey = positions[j]\n",
    "                dx, dy = ex - sx, ey - sy\n",
    "\n",
    "                if 0 <= ex + dx < width and 0 <= ey + dy < height:\n",
    "                    antinodes.add((ex+dx, ey+dy))\n",
    "\n",
    "                if 0 <= sx - dx < width and 0 <= sy - dy < height:\n",
    "                    antinodes.add((sx - dx, sy - dy))\n",
    "\n",
    "    return len(antinodes)\n",
    "\n",
    "antinodes = calculate_antinodes1(antennas, width, height)\n",
    "print(f\"Total unique antinode locations: {antinodes}\")"
   ]
  },
  {
   "cell_type": "markdown",
   "metadata": {},
   "source": [
    "Part 2"
   ]
  },
  {
   "cell_type": "code",
   "execution_count": 13,
   "metadata": {},
   "outputs": [
    {
     "name": "stdout",
     "output_type": "stream",
     "text": [
      "Total unique antinode locations: 1030\n"
     ]
    }
   ],
   "source": [
    "def calculate_antinodes2(antennas, width, height):\n",
    "    antinodes = set()\n",
    "\n",
    "    for _, positions in antennas.items():\n",
    "        for i, (sx, sy) in enumerate(positions):\n",
    "            for j in range(i+1, len(positions)):\n",
    "                ex, ey = positions[j]\n",
    "                dx, dy = ex - sx, ey - sy\n",
    "\n",
    "                if dx != 0 or dy != 0:\n",
    "                    nx, ny = ex, ey\n",
    "                    while 0 <= nx < width and 0 <= ny < height:\n",
    "                        antinodes.add((nx, ny))\n",
    "                        nx, ny = nx + dx, ny + dy\n",
    "\n",
    "                    nx, ny = sx, sy\n",
    "                    while 0 <= nx < width and 0 <= ny < height:\n",
    "                        antinodes.add((nx, ny))\n",
    "                        nx, ny = nx - dx, ny - dy\n",
    "\n",
    "    return len(antinodes)\n",
    "\n",
    "antinodes = calculate_antinodes2(antennas, width, height)\n",
    "print(f\"Total unique antinode locations: {antinodes}\")"
   ]
  }
 ],
 "metadata": {
  "kernelspec": {
   "display_name": "env",
   "language": "python",
   "name": "python3"
  },
  "language_info": {
   "codemirror_mode": {
    "name": "ipython",
    "version": 3
   },
   "file_extension": ".py",
   "mimetype": "text/x-python",
   "name": "python",
   "nbconvert_exporter": "python",
   "pygments_lexer": "ipython3",
   "version": "3.13.0"
  }
 },
 "nbformat": 4,
 "nbformat_minor": 2
}
