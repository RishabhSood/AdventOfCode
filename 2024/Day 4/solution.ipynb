{
 "cells": [
  {
   "cell_type": "markdown",
   "metadata": {},
   "source": [
    "Input"
   ]
  },
  {
   "cell_type": "code",
   "execution_count": 3,
   "metadata": {},
   "outputs": [],
   "source": [
    "file_path = \"input.txt\"  # Path to the input file\n",
    "\n",
    "with open(file_path, \"r\") as f:\n",
    "    data = f.read()\n",
    "\n",
    "data = [[x for x in row] for row in data.split('\\n')]\n",
    "m = len(data)\n",
    "n = len(data[0])"
   ]
  },
  {
   "cell_type": "markdown",
   "metadata": {},
   "source": [
    "Part 1"
   ]
  },
  {
   "cell_type": "code",
   "execution_count": 6,
   "metadata": {},
   "outputs": [
    {
     "data": {
      "text/plain": [
       "2646"
      ]
     },
     "execution_count": 6,
     "metadata": {},
     "output_type": "execute_result"
    }
   ],
   "source": [
    "# Find all XMAS in graph, in all 8 directions (diagonals included)\n",
    "dirs = [[0,1],[0,-1],[-1,0],[1,0],[1,1],[1,-1],[-1,1],[-1,-1]]\n",
    "xmas = \"XMAS\"\n",
    "cnt = 0\n",
    "\n",
    "for i in range(m):\n",
    "    for j in range(n):\n",
    "        if data[i][j] != 'X': continue\n",
    "        for dir in dirs:\n",
    "            found = True\n",
    "            for t in range(4):\n",
    "                ni, nj = i + t*dir[0], j + t*dir[1]\n",
    "                if not (0 <= ni < m and 0 <= nj < n) or data[ni][nj] != xmas[t]:\n",
    "                    found = False\n",
    "                    break\n",
    "            if found: cnt += 1\n",
    "\n",
    "cnt"
   ]
  },
  {
   "cell_type": "markdown",
   "metadata": {},
   "source": [
    "Part 2"
   ]
  },
  {
   "cell_type": "code",
   "execution_count": 10,
   "metadata": {},
   "outputs": [
    {
     "data": {
      "text/plain": [
       "2000"
      ]
     },
     "execution_count": 10,
     "metadata": {},
     "output_type": "execute_result"
    }
   ],
   "source": [
    "xmas = \"XMAS\"\n",
    "cnt = 0\n",
    "\n",
    "for i in range(m):\n",
    "    for j in range(n):\n",
    "        if data[i][j] not in ['M', 'S'] or i > m-3 or j > n-3 or data[i+1][j+1] != 'A': continue\n",
    "        if data[i][j] == 'S' and data[i+2][j+2] == 'M':\n",
    "            if data[i+2][j] == 'M' and data[i][j+2] == 'S': cnt += 1\n",
    "            elif data[i][j+2] == 'M' and data[i+2][j] == 'S': cnt += 1\n",
    "        if data[i][j] == 'M' and data[i+2][j+2] == 'S':\n",
    "            if data[i+2][j] == 'M' and data[i][j+2] == 'S': cnt += 1\n",
    "            elif data[i][j+2] == 'M' and data[i+2][j] == 'S': cnt += 1\n",
    "\n",
    "cnt"
   ]
  }
 ],
 "metadata": {
  "kernelspec": {
   "display_name": "env",
   "language": "python",
   "name": "python3"
  },
  "language_info": {
   "codemirror_mode": {
    "name": "ipython",
    "version": 3
   },
   "file_extension": ".py",
   "mimetype": "text/x-python",
   "name": "python",
   "nbconvert_exporter": "python",
   "pygments_lexer": "ipython3",
   "version": "3.13.0"
  }
 },
 "nbformat": 4,
 "nbformat_minor": 2
}
