{
 "cells": [
  {
   "cell_type": "markdown",
   "metadata": {},
   "source": [
    "Input"
   ]
  },
  {
   "cell_type": "code",
   "execution_count": 9,
   "metadata": {},
   "outputs": [],
   "source": [
    "file_path = \"input.txt\"  # Path to the input file\n",
    "\n",
    "with open(file_path, \"r\") as f:\n",
    "    data = f.read()\n",
    "\n",
    "inps, ops = data.split('\\n\\n')\n",
    "inps = {z.split(':')[0]: int(z.split(':')[1].strip()) for z in inps.split('\\n')}\n",
    "\n",
    "ops = [op.split(' ') for op in ops.split('\\n')]"
   ]
  },
  {
   "cell_type": "markdown",
   "metadata": {},
   "source": [
    "Part 1"
   ]
  },
  {
   "cell_type": "code",
   "execution_count": 6,
   "metadata": {},
   "outputs": [],
   "source": [
    "import collections\n",
    "\n",
    "def solve_gate(inps, ops):\n",
    "    not_visited = set([i for i in range(len(ops))])\n",
    "    while len(not_visited):\n",
    "        for v in not_visited:\n",
    "            elem = ops[v]\n",
    "            if elem[0] in inps and elem[2] in inps:\n",
    "                op = elem[1]\n",
    "                if op == 'AND':\n",
    "                    inps[elem[4]] = inps[elem[0]] and inps[elem[2]]\n",
    "                elif op == 'XOR':\n",
    "                    inps[elem[4]] = inps[elem[0]] ^ inps[elem[2]]\n",
    "                else:\n",
    "                    inps[elem[4]] = inps[elem[0]] or inps[elem[2]]\n",
    "                not_visited.remove(v)\n",
    "                break\n",
    "    od = collections.OrderedDict(sorted(inps.items()))\n",
    "    rep = ''\n",
    "    for k in od:\n",
    "        if k.startswith('z'): rep += str(inps[k])\n",
    "    return int(rep[::-1], 2)"
   ]
  },
  {
   "cell_type": "code",
   "execution_count": 7,
   "metadata": {},
   "outputs": [
    {
     "data": {
      "text/plain": [
       "57344080719736"
      ]
     },
     "execution_count": 7,
     "metadata": {},
     "output_type": "execute_result"
    }
   ],
   "source": [
    "solve_gate(inps, ops)"
   ]
  },
  {
   "cell_type": "markdown",
   "metadata": {},
   "source": [
    "alternative solution to part 1 using z3"
   ]
  },
  {
   "cell_type": "code",
   "execution_count": 10,
   "metadata": {},
   "outputs": [
    {
     "name": "stdout",
     "output_type": "stream",
     "text": [
      "Final binary result: 1101000010011101110101100011111010111101111000\n",
      "Integer value: 57344080719736\n"
     ]
    }
   ],
   "source": [
    "from z3 import *\n",
    "\n",
    "solver = Solver()\n",
    "\n",
    "z3_vars = {}\n",
    "\n",
    "for var, value in inps.items():\n",
    "    z3_vars[var] = Bool(var) if value is None else BoolVal(value)\n",
    "\n",
    "for op in ops:\n",
    "    input1 = z3_vars[op[0]] if op[0] in z3_vars else Bool(op[0])\n",
    "    input2 = z3_vars[op[2]] if op[2] in z3_vars else Bool(op[2])\n",
    "    output = op[4]\n",
    "    \n",
    "    if output not in z3_vars:\n",
    "        z3_vars[output] = Bool(output)\n",
    "    \n",
    "    if op[1] == 'AND':\n",
    "        solver.add(z3_vars[output] == And(input1, input2))\n",
    "    elif op[1] == 'OR':\n",
    "        solver.add(z3_vars[output] == Or(input1, input2))\n",
    "    elif op[1] == 'XOR':\n",
    "        solver.add(z3_vars[output] == Xor(input1, input2))\n",
    "\n",
    "if solver.check() == sat:\n",
    "    model = solver.model()\n",
    "\n",
    "    z_values = [model[z3_vars[f'z{i:02}']] for i in range(46)]\n",
    "\n",
    "    result = ''.join(['1' if z else '0' for z in reversed(z_values)])\n",
    "    print(\"Final binary result:\", result)\n",
    "    print(\"Integer value:\", int(result, 2))\n",
    "else:\n",
    "    print(\"No solution found\")"
   ]
  },
  {
   "cell_type": "markdown",
   "metadata": {},
   "source": [
    "Part 2: [Not solved yet]"
   ]
  },
  {
   "cell_type": "markdown",
   "metadata": {},
   "source": []
  }
 ],
 "metadata": {
  "kernelspec": {
   "display_name": "env",
   "language": "python",
   "name": "python3"
  },
  "language_info": {
   "codemirror_mode": {
    "name": "ipython",
    "version": 3
   },
   "file_extension": ".py",
   "mimetype": "text/x-python",
   "name": "python",
   "nbconvert_exporter": "python",
   "pygments_lexer": "ipython3",
   "version": "3.13.0"
  }
 },
 "nbformat": 4,
 "nbformat_minor": 2
}
