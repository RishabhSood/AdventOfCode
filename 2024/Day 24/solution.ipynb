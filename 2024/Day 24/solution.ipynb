{
 "cells": [
  {
   "cell_type": "markdown",
   "metadata": {},
   "source": [
    "Input"
   ]
  },
  {
   "cell_type": "code",
   "execution_count": 44,
   "metadata": {},
   "outputs": [],
   "source": [
    "file_path = \"input.txt\"  # Path to the input file\n",
    "\n",
    "with open(file_path, \"r\") as f:\n",
    "    data = f.read()\n",
    "\n",
    "inps, ops = data.split('\\n\\n')\n",
    "inps = {z.split(':')[0]: int(z.split(':')[1].strip()) for z in inps.split('\\n')}\n",
    "\n",
    "ops = [op.split(' ') for op in ops.split('\\n')]"
   ]
  },
  {
   "cell_type": "markdown",
   "metadata": {},
   "source": [
    "Part 1"
   ]
  },
  {
   "cell_type": "code",
   "execution_count": 6,
   "metadata": {},
   "outputs": [],
   "source": [
    "import collections\n",
    "\n",
    "def solve_gate(inps, ops):\n",
    "    not_visited = set([i for i in range(len(ops))])\n",
    "    while len(not_visited):\n",
    "        for v in not_visited:\n",
    "            elem = ops[v]\n",
    "            if elem[0] in inps and elem[2] in inps:\n",
    "                op = elem[1]\n",
    "                if op == 'AND':\n",
    "                    inps[elem[4]] = inps[elem[0]] and inps[elem[2]]\n",
    "                elif op == 'XOR':\n",
    "                    inps[elem[4]] = inps[elem[0]] ^ inps[elem[2]]\n",
    "                else:\n",
    "                    inps[elem[4]] = inps[elem[0]] or inps[elem[2]]\n",
    "                not_visited.remove(v)\n",
    "                break\n",
    "    od = collections.OrderedDict(sorted(inps.items()))\n",
    "    rep = ''\n",
    "    for k in od:\n",
    "        if k.startswith('z'): rep += str(inps[k])\n",
    "    return int(rep[::-1], 2)"
   ]
  },
  {
   "cell_type": "code",
   "execution_count": 7,
   "metadata": {},
   "outputs": [
    {
     "data": {
      "text/plain": [
       "57344080719736"
      ]
     },
     "execution_count": 7,
     "metadata": {},
     "output_type": "execute_result"
    }
   ],
   "source": [
    "solve_gate(inps, ops)"
   ]
  },
  {
   "cell_type": "markdown",
   "metadata": {},
   "source": [
    "alternative solution to part 1 using z3"
   ]
  },
  {
   "cell_type": "code",
   "execution_count": 45,
   "metadata": {},
   "outputs": [
    {
     "name": "stdout",
     "output_type": "stream",
     "text": [
      "[True, True, True, True, True, False, False, False, False, False, True, False, False, False, True, True, False, False, False, False, True, True, True, True, False, True, True, True, True, False, True, False, False, True, False, True, False, True, True, False, False, False, False, True, True]\n",
      "[True, False, False, True, True, True, False, False, True, True, False, True, False, True, True, False, True, True, True, True, True, False, False, True, False, True, True, False, True, False, False, False, True, False, True, True, True, True, False, False, True, True, False, True, True]\n",
      "Final binary result: 1101000010011101110101100100000010111101011000\n",
      "Expected binary result: 1100111010011101110101100100000010111101011000\n",
      "Integer value: 57344080752472\n",
      "Expected value: 56794324938584\n"
     ]
    }
   ],
   "source": [
    "from z3 import *\n",
    "\n",
    "solver = Solver()\n",
    "\n",
    "z3_vars = {}\n",
    "\n",
    "for var, value in inps.items():\n",
    "    z3_vars[var] = Bool(var) if value is None else BoolVal(value)\n",
    "\n",
    "for op in ops:\n",
    "    input1 = z3_vars[op[0]] if op[0] in z3_vars else Bool(op[0])\n",
    "    input2 = z3_vars[op[2]] if op[2] in z3_vars else Bool(op[2])\n",
    "    output = op[4]\n",
    "    \n",
    "    if output not in z3_vars:\n",
    "        z3_vars[output] = Bool(output)\n",
    "    \n",
    "    if op[1] == 'AND':\n",
    "        solver.add(z3_vars[output] == And(input1, input2))\n",
    "    elif op[1] == 'OR':\n",
    "        solver.add(z3_vars[output] == Or(input1, input2))\n",
    "    elif op[1] == 'XOR':\n",
    "        solver.add(z3_vars[output] == Xor(input1, input2))\n",
    "\n",
    "if solver.check() == sat:\n",
    "    model = solver.model()\n",
    "\n",
    "    z_values = [model[z3_vars[f'z{i:02}']] for i in range(46)]\n",
    "    x_values = [z3_vars[f'x{i:02}'] for i in range(45)]\n",
    "    y_values = [z3_vars[f'y{i:02}'] for i in range(45)]\n",
    "\n",
    "    print(x_values)\n",
    "    print(y_values)\n",
    "    x = ''.join(['1' if t else '0' for t in reversed(x_values)])\n",
    "    y = ''.join(['1' if t else '0' for t in reversed(y_values)])\n",
    "\n",
    "    exp_result = bin(int(x, 2) + int(y, 2))\n",
    "    result = ''.join(['1' if z else '0' for z in reversed(z_values)])\n",
    "\n",
    "    print(\"Final binary result:\", result)\n",
    "    print(\"Expected binary result:\", exp_result[2:])\n",
    "    print(\"Integer value:\", int(result, 2))\n",
    "    print(\"Expected value:\", int(exp_result[2:], 2))\n",
    "else:\n",
    "    print(\"No solution found\")"
   ]
  },
  {
   "cell_type": "code",
   "execution_count": 46,
   "metadata": {},
   "outputs": [
    {
     "name": "stdout",
     "output_type": "stream",
     "text": [
      "39\n"
     ]
    }
   ],
   "source": [
    "curr_str = \"1101000010011101110101100100000010111101011000\"[::-1]\n",
    "exp_str = \"1100111010011101110101100100000010111101011000\"[::-1]\n",
    "\n",
    "for i in range(len(curr_str)):\n",
    "    if curr_str[i] != exp_str[i]:\n",
    "        print(i) \n",
    "        break"
   ]
  },
  {
   "cell_type": "markdown",
   "metadata": {},
   "source": [
    "Part 2: [Not solved yet]"
   ]
  },
  {
   "cell_type": "code",
   "execution_count": 16,
   "metadata": {},
   "outputs": [
    {
     "data": {
      "text/plain": [
       "'circuit_graph_sample.png'"
      ]
     },
     "execution_count": 16,
     "metadata": {},
     "output_type": "execute_result"
    }
   ],
   "source": [
    "import graphviz\n",
    "\n",
    "# Create a new directed graph\n",
    "dot = graphviz.Digraph(format='png', engine='dot')\n",
    "\n",
    "# Add operand nodes (inputs/outputs) as circles\n",
    "for var in inps:\n",
    "    dot.node(var, var, shape='circle')  # Circle shape for operands\n",
    "\n",
    "# Add operations as nodes (operators in boxes)\n",
    "for op in ops:\n",
    "    input1, gate, input2, _, output = op\n",
    "\n",
    "    # Create gate node in a box\n",
    "    gate_label = f'{gate}'\n",
    "    gate_name = f'{input1}_{input2}_{gate}'  # Unique gate name\n",
    "    dot.node(gate_name, gate_label, shape='box')  # Box shape for operators\n",
    "\n",
    "    # Connect inputs to gate\n",
    "    dot.edge(input1, gate_name)\n",
    "    dot.edge(input2, gate_name)\n",
    "\n",
    "    # Connect gate to output\n",
    "    dot.node(output, output, shape='circle')  # Output node as circle\n",
    "    dot.edge(gate_name, output)\n",
    "\n",
    "# Render the graph to a file\n",
    "output_path = 'circuit_graph_sample'\n",
    "dot.render(output_path)  # Saves the output to 'circuit_graph.png'"
   ]
  },
  {
   "cell_type": "code",
   "execution_count": 19,
   "metadata": {},
   "outputs": [],
   "source": [
    "# Not needed. Just for understanding\n",
    "import graphviz\n",
    "\n",
    "\n",
    "def visualize_full_adder_no_cin_graph(n):\n",
    "    # Create graph\n",
    "    dot = graphviz.Digraph(format='png', engine='dot')\n",
    "    \n",
    "    # Inputs\n",
    "    for i in range(n):\n",
    "        dot.node(f'A{i}', f'A[{i}]', shape='circle')  # Input A\n",
    "        dot.node(f'B{i}', f'B[{i}]', shape='circle')  # Input B\n",
    "\n",
    "    for i in range(n):\n",
    "        # Internal gate nodes\n",
    "        xor1 = f'XOR1_{i}'\n",
    "        xor2 = f'XOR2_{i}'\n",
    "        and1 = f'AND1_{i}'\n",
    "        and2 = f'AND2_{i}'\n",
    "        or1 = f'OR1_{i}'\n",
    "\n",
    "        # Outputs\n",
    "        sum_label = f'S{i}'\n",
    "        carry_label = f'Cout{i+1}' if i < n - 1 else f'Cout{n}'\n",
    "\n",
    "        # XOR1: A ⊕ B\n",
    "        dot.node(xor1, 'XOR', shape='box')  # XOR gate\n",
    "        dot.edge(f'A{i}', xor1)\n",
    "        dot.edge(f'B{i}', xor1)\n",
    "\n",
    "        # XOR2: (A ⊕ B) ⊕ Cin (implicitly Cin=0 for i=0)\n",
    "        dot.node(xor2, 'XOR', shape='box')\n",
    "\n",
    "        if i == 0:  # First bit has no initial carry-in\n",
    "            dot.edge(xor1, xor2)  # Direct XOR result for Sum\n",
    "        else:\n",
    "            dot.edge(xor1, xor2)\n",
    "            dot.edge(f'Cout{i}', xor2)  # Carry from previous stage\n",
    "\n",
    "        # AND1: A ⋅ B\n",
    "        dot.node(and1, 'AND', shape='box')\n",
    "        dot.edge(f'A{i}', and1)\n",
    "        dot.edge(f'B{i}', and1)\n",
    "\n",
    "        # AND2: Cin ⋅ (A ⊕ B)\n",
    "        if i > 0:  # For subsequent bits\n",
    "            dot.node(and2, 'AND', shape='box')\n",
    "            dot.edge(f'Cout{i}', and2)\n",
    "            dot.edge(xor1, and2)\n",
    "\n",
    "        # OR1: Carry-out\n",
    "        dot.node(or1, 'OR', shape='box')\n",
    "        dot.edge(and1, or1)\n",
    "        if i > 0:  # For subsequent bits\n",
    "            dot.edge(and2, or1)\n",
    "\n",
    "        # Outputs\n",
    "        dot.node(sum_label, sum_label, shape='circle')  # Sum output\n",
    "        dot.edge(xor2, sum_label)\n",
    "\n",
    "        dot.node(carry_label, carry_label, shape='circle')  # Carry output\n",
    "        dot.edge(or1, carry_label)\n",
    "\n",
    "    # Render and save the graph\n",
    "    output_path = f'{n}-bit-adder-no-cin-graph'\n",
    "    dot.render(output_path)\n",
    "\n",
    "\n",
    "# Example: Visualize a 2-bit full adder with internals\n",
    "visualize_full_adder_no_cin_graph(44)"
   ]
  },
  {
   "cell_type": "code",
   "execution_count": 43,
   "metadata": {},
   "outputs": [
    {
     "data": {
      "text/plain": [
       "'cgq,fnr,kqk,nbc,svm,z15,z23,z39'"
      ]
     },
     "execution_count": 43,
     "metadata": {},
     "output_type": "execute_result"
    }
   ],
   "source": [
    "res = ['svm', 'nbc', 'z39', 'fnr', 'z15', 'kqk', 'cgq', 'z23']\n",
    "','.join(sorted(res))"
   ]
  }
 ],
 "metadata": {
  "kernelspec": {
   "display_name": "env",
   "language": "python",
   "name": "python3"
  },
  "language_info": {
   "codemirror_mode": {
    "name": "ipython",
    "version": 3
   },
   "file_extension": ".py",
   "mimetype": "text/x-python",
   "name": "python",
   "nbconvert_exporter": "python",
   "pygments_lexer": "ipython3",
   "version": "3.13.0"
  }
 },
 "nbformat": 4,
 "nbformat_minor": 2
}
