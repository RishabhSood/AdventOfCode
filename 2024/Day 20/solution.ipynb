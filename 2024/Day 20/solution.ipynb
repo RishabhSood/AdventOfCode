{
 "cells": [
  {
   "cell_type": "markdown",
   "metadata": {},
   "source": [
    "Input"
   ]
  },
  {
   "cell_type": "code",
   "execution_count": 61,
   "metadata": {},
   "outputs": [],
   "source": [
    "file_path = \"input.txt\"  # Path to the input file\n",
    "\n",
    "with open(file_path, \"r\") as f:\n",
    "    data = f.read()\n",
    "\n",
    "grid = [[x for x in row] for row in data.split('\\n')]\n",
    "m = len(grid)\n",
    "n = len(grid[0])"
   ]
  },
  {
   "cell_type": "markdown",
   "metadata": {},
   "source": [
    "Common Solution"
   ]
  },
  {
   "cell_type": "code",
   "execution_count": 62,
   "metadata": {},
   "outputs": [],
   "source": [
    "from heapq import heappush, heappop \n",
    "\n",
    "# state can be defined as which cell? and which direction?\n",
    "dirs = [[0, 1], [-1, 0], [0, -1], [1, 0]]\n",
    "\n",
    "for i in range(m):\n",
    "    for j in range(n):\n",
    "        if grid[i][j] == 'S':\n",
    "            si, sj = i, j\n",
    "        elif grid[i][j] == 'E':\n",
    "            ei, ej = i, j\n",
    "\n",
    "def bfs(si, sj, ei, ej):\n",
    "    pq = []\n",
    "    heappush(pq, (0, si, sj)) # score, curri, currj\n",
    "    d = {}\n",
    "    best = None\n",
    "\n",
    "    while pq:\n",
    "        sc, ci, cj = heappop(pq)\n",
    "        \n",
    "        if (ci, cj) not in d: d[(ci, cj)] = sc\n",
    "        else: continue\n",
    "\n",
    "        if ci == ei and cj == ej: best = sc\n",
    "\n",
    "        for dir in dirs:\n",
    "            ni, nj = ci + dir[0], cj + dir[1]\n",
    "            if 0<=ni<m and 0<=nj<n and grid[ni][nj] != '#':\n",
    "                heappush(pq, (sc+1, ni, nj))\n",
    "    \n",
    "    return d, best\n",
    "\n",
    "def step_distance(a, b): # manhattan\n",
    "    return abs(a[0] - b[0]) + abs(a[1] - b[1])\n",
    "\n",
    "distances_start, best_no_cheat = bfs(si, sj, ei, ej)\n",
    "distances_end, _ = bfs(ei, ej, si, sj)\n",
    "\n",
    "def paths_with_cheat(cheat_threshold, save_seconds):\n",
    "    res = 0\n",
    "\n",
    "    for i in range(m):\n",
    "        for j in range(n):\n",
    "            if grid[i][j] == '#' or (i, j) not in distances_start: continue\n",
    "            for k in range(max(i-cheat_threshold, 0), min(i+cheat_threshold, m-1) + 1):\n",
    "                for l in range(max(j-cheat_threshold, 0), min(j+cheat_threshold, n-1) + 1):\n",
    "                    sd = step_distance((i, j), (k, l))\n",
    "                    if (\n",
    "                        sd > cheat_threshold or \n",
    "                        grid[k][l] == '#' or\n",
    "                        (k, l) not in distances_end\n",
    "                    ): \n",
    "                        continue\n",
    "                    dist = distances_start[(i, j)] + distances_end[(k, l)] + sd\n",
    "                    \n",
    "                    if dist <= best_no_cheat-save_seconds:\n",
    "                        res += 1\n",
    "    \n",
    "    return res"
   ]
  },
  {
   "cell_type": "markdown",
   "metadata": {},
   "source": [
    "Part 1"
   ]
  },
  {
   "cell_type": "code",
   "execution_count": 64,
   "metadata": {},
   "outputs": [
    {
     "data": {
      "text/plain": [
       "1381"
      ]
     },
     "execution_count": 64,
     "metadata": {},
     "output_type": "execute_result"
    }
   ],
   "source": [
    "paths_with_cheat(2, 100)"
   ]
  },
  {
   "cell_type": "markdown",
   "metadata": {},
   "source": [
    "Part 2"
   ]
  },
  {
   "cell_type": "code",
   "execution_count": 65,
   "metadata": {},
   "outputs": [
    {
     "data": {
      "text/plain": [
       "982124"
      ]
     },
     "execution_count": 65,
     "metadata": {},
     "output_type": "execute_result"
    }
   ],
   "source": [
    "paths_with_cheat(20, 100)"
   ]
  }
 ],
 "metadata": {
  "kernelspec": {
   "display_name": "env",
   "language": "python",
   "name": "python3"
  },
  "language_info": {
   "codemirror_mode": {
    "name": "ipython",
    "version": 3
   },
   "file_extension": ".py",
   "mimetype": "text/x-python",
   "name": "python",
   "nbconvert_exporter": "python",
   "pygments_lexer": "ipython3",
   "version": "3.13.0"
  }
 },
 "nbformat": 4,
 "nbformat_minor": 2
}
