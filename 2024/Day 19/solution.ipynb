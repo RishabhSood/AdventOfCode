{
 "cells": [
  {
   "cell_type": "markdown",
   "metadata": {},
   "source": [
    "Input"
   ]
  },
  {
   "cell_type": "code",
   "execution_count": 10,
   "metadata": {},
   "outputs": [],
   "source": [
    "file_path = \"input.txt\"  # Path to the input file\n",
    "\n",
    "with open(file_path, \"r\") as f:\n",
    "    data = f.read()\n",
    "\n",
    "patterns, designs = data.split('\\n\\n')\n",
    "patterns = [p.strip() for p in patterns.split(',')]\n",
    "designs = designs.split('\\n')\n",
    "\n",
    "patterns = set(patterns)"
   ]
  },
  {
   "cell_type": "markdown",
   "metadata": {},
   "source": [
    "Part 1"
   ]
  },
  {
   "cell_type": "code",
   "execution_count": 17,
   "metadata": {},
   "outputs": [
    {
     "name": "stderr",
     "output_type": "stream",
     "text": [
      "100%|██████████| 400/400 [00:00<00:00, 20624.01it/s]\n"
     ]
    },
    {
     "data": {
      "text/plain": [
       "306"
      ]
     },
     "execution_count": 17,
     "metadata": {},
     "output_type": "execute_result"
    }
   ],
   "source": [
    "from tqdm import tqdm\n",
    "from functools import lru_cache\n",
    "\n",
    "cnt = 0\n",
    "\n",
    "@lru_cache(None)\n",
    "def possible_design(d, i):\n",
    "    if i == len(d):\n",
    "        return True\n",
    "    \n",
    "    for j in range(i + 1, len(d) + 1):\n",
    "        if d[i:j] in patterns:\n",
    "            if possible_design(d, j):\n",
    "                return True\n",
    "    return False\n",
    "\n",
    "for d in tqdm(designs):\n",
    "    if possible_design(d, 0):\n",
    "        cnt += 1\n",
    "\n",
    "cnt"
   ]
  },
  {
   "cell_type": "markdown",
   "metadata": {},
   "source": [
    "Part 2"
   ]
  },
  {
   "cell_type": "code",
   "execution_count": 19,
   "metadata": {},
   "outputs": [
    {
     "name": "stderr",
     "output_type": "stream",
     "text": [
      "100%|██████████| 400/400 [00:00<00:00, 9101.23it/s]\n"
     ]
    },
    {
     "data": {
      "text/plain": [
       "604622004681855"
      ]
     },
     "execution_count": 19,
     "metadata": {},
     "output_type": "execute_result"
    }
   ],
   "source": [
    "from tqdm import tqdm\n",
    "from functools import lru_cache\n",
    "\n",
    "res = 0\n",
    "\n",
    "@lru_cache(None)\n",
    "def possible_design(d, i):\n",
    "    if i == len(d): return 1\n",
    "    \n",
    "    cnt = 0\n",
    "    for j in range(i + 1, len(d) + 1):\n",
    "        if d[i:j] in patterns:\n",
    "            cnt += possible_design(d, j)\n",
    "            \n",
    "    return cnt\n",
    "\n",
    "for d in tqdm(designs):\n",
    "    res += possible_design(d, 0)\n",
    "\n",
    "res"
   ]
  }
 ],
 "metadata": {
  "kernelspec": {
   "display_name": "env",
   "language": "python",
   "name": "python3"
  },
  "language_info": {
   "codemirror_mode": {
    "name": "ipython",
    "version": 3
   },
   "file_extension": ".py",
   "mimetype": "text/x-python",
   "name": "python",
   "nbconvert_exporter": "python",
   "pygments_lexer": "ipython3",
   "version": "3.13.0"
  }
 },
 "nbformat": 4,
 "nbformat_minor": 2
}
