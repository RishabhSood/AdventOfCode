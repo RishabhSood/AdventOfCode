{
 "cells": [
  {
   "cell_type": "markdown",
   "metadata": {},
   "source": [
    "Input"
   ]
  },
  {
   "cell_type": "code",
   "execution_count": 1,
   "metadata": {},
   "outputs": [],
   "source": [
    "file_path = \"input.txt\"  # Path to the input file\n",
    "\n",
    "# Parse the input\n",
    "input_map = []\n",
    "with open(file_path, \"r\") as f:\n",
    "    for line in f:\n",
    "        input_map.append([int(s) for s in line.strip()])"
   ]
  },
  {
   "cell_type": "markdown",
   "metadata": {},
   "source": [
    "Problem 1"
   ]
  },
  {
   "cell_type": "code",
   "execution_count": 2,
   "metadata": {},
   "outputs": [
    {
     "data": {
      "text/plain": [
       "694"
      ]
     },
     "execution_count": 2,
     "metadata": {},
     "output_type": "execute_result"
    }
   ],
   "source": [
    "# do dfs for all 0s?\n",
    "sm = 0\n",
    "m = len(input_map)\n",
    "n = len(input_map[0])\n",
    "dirs = [[0, -1], [0, 1], [1, 0], [-1, 0]]\n",
    "\n",
    "def dfs(i, j, visited):\n",
    "    if input_map[i][j] == 9: \n",
    "        visited.add(i*n + j)\n",
    "        return 1\n",
    "\n",
    "    sm = 0\n",
    "    for dir in dirs:\n",
    "        ni, nj = i + dir[0], j + dir[1]\n",
    "        if ni*n + nj in visited: continue\n",
    "        if 0 <= ni < m and 0 <= nj < n and input_map[ni][nj] == input_map[i][j] + 1:\n",
    "            visited.add(ni*n + nj)\n",
    "            sm += dfs(ni, nj, visited)\n",
    "    \n",
    "    return sm\n",
    "\n",
    "for i in range(m):\n",
    "    for j in range(n):\n",
    "        if(input_map[i][j] == 0):\n",
    "            visited = set()\n",
    "            visited.add(i*n + j)\n",
    "            sm += dfs(i, j, visited)\n",
    "            \n",
    "sm"
   ]
  },
  {
   "cell_type": "markdown",
   "metadata": {},
   "source": [
    "Problem 2"
   ]
  },
  {
   "cell_type": "code",
   "execution_count": 3,
   "metadata": {},
   "outputs": [
    {
     "data": {
      "text/plain": [
       "1497"
      ]
     },
     "execution_count": 3,
     "metadata": {},
     "output_type": "execute_result"
    }
   ],
   "source": [
    "# do dfs for all 0s without visited?\n",
    "sm = 0\n",
    "m = len(input_map)\n",
    "n = len(input_map[0])\n",
    "dirs = [[0, -1], [0, 1], [1, 0], [-1, 0]]\n",
    "\n",
    "def dfs(i, j):\n",
    "    if input_map[i][j] == 9:\n",
    "        return 1\n",
    "\n",
    "    sm = 0\n",
    "    for dir in dirs:\n",
    "        ni, nj = i + dir[0], j + dir[1]\n",
    "        if 0 <= ni < m and 0 <= nj < n and input_map[ni][nj] == input_map[i][j] + 1:\n",
    "            sm += dfs(ni, nj)\n",
    "    \n",
    "    return sm\n",
    "\n",
    "for i in range(m):\n",
    "    for j in range(n):\n",
    "        if(input_map[i][j] == 0):\n",
    "            sm += dfs(i, j)\n",
    "            \n",
    "sm"
   ]
  }
 ],
 "metadata": {
  "kernelspec": {
   "display_name": "env",
   "language": "python",
   "name": "python3"
  },
  "language_info": {
   "codemirror_mode": {
    "name": "ipython",
    "version": 3
   },
   "file_extension": ".py",
   "mimetype": "text/x-python",
   "name": "python",
   "nbconvert_exporter": "python",
   "pygments_lexer": "ipython3",
   "version": "3.13.0"
  }
 },
 "nbformat": 4,
 "nbformat_minor": 2
}
