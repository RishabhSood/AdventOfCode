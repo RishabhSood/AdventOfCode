{
 "cells": [
  {
   "cell_type": "markdown",
   "metadata": {},
   "source": [
    "Input"
   ]
  },
  {
   "cell_type": "code",
   "execution_count": 17,
   "metadata": {},
   "outputs": [],
   "source": [
    "file_path = \"input_test.txt\"  # Path to the input file\n",
    "\n",
    "with open(file_path, \"r\") as f:\n",
    "    data = f.read()"
   ]
  },
  {
   "cell_type": "code",
   "execution_count": 43,
   "metadata": {},
   "outputs": [],
   "source": [
    "file_path = \"input.txt\"  # Path to the input file\n",
    "\n",
    "with open(file_path, \"r\") as f:\n",
    "    data = f.read()"
   ]
  },
  {
   "cell_type": "code",
   "execution_count": 44,
   "metadata": {},
   "outputs": [],
   "source": [
    "grid = [[x for x in row] for row in data.split('\\n')]\n",
    "m = len(grid)\n",
    "n = len(grid[0])"
   ]
  },
  {
   "cell_type": "markdown",
   "metadata": {},
   "source": [
    "Part 1"
   ]
  },
  {
   "cell_type": "code",
   "execution_count": 49,
   "metadata": {},
   "outputs": [
    {
     "name": "stdout",
     "output_type": "stream",
     "text": [
      "72400\n"
     ]
    }
   ],
   "source": [
    "from heapq import heappush, heappop \n",
    "\n",
    "# state can be defined as which cell? and which direction?\n",
    "dirs = [[0, 1], [-1, 0], [0, -1], [1, 0]]\n",
    "\n",
    "for i in range(m):\n",
    "    for j in range(n):\n",
    "        if grid[i][j] == 'S':\n",
    "            si, sj = i, j\n",
    "        elif grid[i][j] == 'E':\n",
    "            ei, ej = i, j\n",
    "\n",
    "pq = []\n",
    "heappush(pq, (0, si, sj, 0)) # score, curri, currj, direction\n",
    "d_st_en = {}\n",
    "best = None\n",
    "\n",
    "while pq:\n",
    "    sc, ci, cj, dir = heappop(pq)\n",
    "    \n",
    "    if (ci, cj, dir) not in d_st_en: d_st_en[(ci, cj, dir)] = sc\n",
    "    else: continue\n",
    "\n",
    "    if ci == ei and cj == ej and best == None:\n",
    "        best = sc # we could have breaked here for part 1, but as we need shortest path(min score) from start to each cell, thus we don't break here\n",
    "\n",
    "    ni, nj = ci + dirs[dir][0], cj + dirs[dir][1]\n",
    "    if 0<=ni<m and 0<=nj<n and grid[ni][nj] != '#':\n",
    "        heappush(pq, (sc+1, ni, nj, dir))\n",
    "    heappush(pq, (sc+1000, ci, cj, (dir - 1)%4))\n",
    "    heappush(pq, (sc+1000, ci, cj, (dir + 1)%4))\n",
    "\n",
    "print(best)"
   ]
  },
  {
   "cell_type": "markdown",
   "metadata": {},
   "source": [
    "Part 2"
   ]
  },
  {
   "cell_type": "code",
   "execution_count": 50,
   "metadata": {},
   "outputs": [
    {
     "data": {
      "text/plain": [
       "435"
      ]
     },
     "execution_count": 50,
     "metadata": {},
     "output_type": "execute_result"
    }
   ],
   "source": [
    "# How do we check if a cell is part of an optimal path? \n",
    "# Can we calculate the score of the optimal path passing through each cell?\n",
    "# Greedily this path would be a sum of optimal sum score from the current cell to start and cell to end?\n",
    "# We already have score from start to cell, can we calculate scores from end to cell?\n",
    "# Reverse Dijkstra!\n",
    "\n",
    "pq = []\n",
    "for dir in range(4):\n",
    "    heappush(pq, (0, ei, ej, dir)) # score, curri, currj, direction, Ending is marked reached irrespective of direction, so we add all 4!\n",
    "d_en_st = {}\n",
    "\n",
    "while pq:\n",
    "    sc, ci, cj, dir = heappop(pq)\n",
    "    \n",
    "    if (ci, cj, dir) not in d_en_st: d_en_st[(ci, cj, dir)] = sc\n",
    "    else: continue\n",
    "\n",
    "    ni, nj = ci + dirs[(dir+2)%4][0], cj + dirs[(dir+2)%4][1] # we travel reverse!\n",
    "    if 0<=ni<m and 0<=nj<n and grid[ni][nj] != '#':\n",
    "        heappush(pq, (sc+1, ni, nj, dir))\n",
    "    heappush(pq, (sc+1000, ci, cj, (dir - 1)%4))\n",
    "    heappush(pq, (sc+1000, ci, cj, (dir + 1)%4))\n",
    "\n",
    "cells = set()\n",
    "\n",
    "for i in range(m):\n",
    "    for j in range(n):\n",
    "        for d in range(4):\n",
    "            if (i, j, d) in d_en_st and (i, j, d) in d_st_en:\n",
    "                if d_st_en[(i, j, d)] + d_en_st[(i, j, d)] == best:\n",
    "                    cells.add((i, j)) #why? Same cell could be considered with multiple directions!\n",
    "\n",
    "len(cells)"
   ]
  }
 ],
 "metadata": {
  "kernelspec": {
   "display_name": "env",
   "language": "python",
   "name": "python3"
  },
  "language_info": {
   "codemirror_mode": {
    "name": "ipython",
    "version": 3
   },
   "file_extension": ".py",
   "mimetype": "text/x-python",
   "name": "python",
   "nbconvert_exporter": "python",
   "pygments_lexer": "ipython3",
   "version": "3.11.7"
  }
 },
 "nbformat": 4,
 "nbformat_minor": 2
}
