{
 "cells": [
  {
   "cell_type": "code",
   "execution_count": 33,
   "metadata": {},
   "outputs": [],
   "source": [
    "a = 33024962\n",
    "b = 0\n",
    "c = 0\n",
    "\n",
    "def get_operand(combo_opr):\n",
    "    if combo_opr in range(4): return combo_opr\n",
    "    elif combo_opr == 4: return a\n",
    "    elif combo_opr == 5: return b\n",
    "    elif combo_opr == 6: return c  \n",
    "\n",
    "def perform_op(opr, operand):\n",
    "    global a, b, c\n",
    "    combo_opr = get_operand(operand)\n",
    "    if opr == 0:\n",
    "        a = int(a/(pow(2, combo_opr)))\n",
    "        return a\n",
    "    elif opr == 1:\n",
    "        b = b ^ operand\n",
    "        return b\n",
    "    elif opr == 2:\n",
    "        b = combo_opr%8\n",
    "        return b  \n",
    "    elif opr == 4:\n",
    "        b = b^c\n",
    "        return b\n",
    "    elif opr == 5:\n",
    "        return combo_opr%8\n",
    "    elif opr == 6:\n",
    "        b = int(a/(pow(2, combo_opr)))\n",
    "        return b\n",
    "    elif opr == 7:\n",
    "        c = int(a/(pow(2, combo_opr)))\n",
    "        return c"
   ]
  },
  {
   "cell_type": "markdown",
   "metadata": {},
   "source": [
    "Part 1"
   ]
  },
  {
   "cell_type": "code",
   "execution_count": 34,
   "metadata": {},
   "outputs": [
    {
     "name": "stdout",
     "output_type": "stream",
     "text": [
      "5,1,3,4,3,7,2,1,7\n"
     ]
    }
   ],
   "source": [
    "program_str = \"2,4,1,3,7,5,1,5,0,3,4,2,5,5,3,0\"\n",
    "program = [int(x) for x in program_str.split(',')]\n",
    "rep = \"\"\n",
    "\n",
    "a = 33024962\n",
    "b = 0\n",
    "c = 0\n",
    "ptr = 0\n",
    "while ptr < len(program):\n",
    "    ins, opr = program[ptr], program[ptr+1]\n",
    "    if ins == 3: \n",
    "        if a == 0:\n",
    "            ptr += 2\n",
    "        else: ptr = opr\n",
    "        continue\n",
    "    res = perform_op(ins, opr)\n",
    "    if ins == 5: rep += f\"{res},\"\n",
    "    ptr+=2\n",
    "\n",
    "rep = rep[:-1]\n",
    "print(rep)"
   ]
  },
  {
   "cell_type": "markdown",
   "metadata": {},
   "source": [
    "Part 2"
   ]
  },
  {
   "cell_type": "markdown",
   "metadata": {},
   "source": [
    "we'll have to reverse-engineer the freaking solution. This was so damn difficult to think of! Anywho, here's the input we got:\n",
    "\n",
    "```\n",
    "Register A: 33024962\n",
    "Register B: 0\n",
    "Register C: 0\n",
    "\n",
    "Program: 2,4,1,3,7,5,1,5,0,3,4,2,5,5,3,0\n",
    "```\n",
    "\n",
    "This written as logical statements looks something like this\n",
    "```\n",
    "do:\n",
    "\tb = a%8\n",
    "\tb = b^3\n",
    "\tc = a >> b\n",
    "\tb = b^5\n",
    "\ta = a >> 3\n",
    "\tb = b ^ c\n",
    "\tout(b%8)\n",
    "while a \n",
    "```\n",
    "\n",
    "starting at the very last digit of the program, we want the loop to exit after printing that digit right? Which means at this position, `a` should have a value such that `a >> 3` become 0, i.e. `0 < a < 7`.\n",
    "\n",
    "Running through the program this gives us `6` as the valid value for `a` at the last iteration of the loop. Going back to the previous iteration we now jump onto candidates within the range `[a << 3, (a << 3) + 7]`. Why? Think!"
   ]
  },
  {
   "cell_type": "code",
   "execution_count": 1,
   "metadata": {},
   "outputs": [
    {
     "data": {
      "text/plain": [
       "216584205979245"
      ]
     },
     "execution_count": 1,
     "metadata": {},
     "output_type": "execute_result"
    }
   ],
   "source": [
    "candidates_ini = [x for x in range(8)]\n",
    "rep_str = \"2,4,1,3,7,5,1,5,0,3,4,2,5,5,3,0\"\n",
    "res_list = [int(x) for x in rep_str.split(',')]\n",
    "res_list.reverse()\n",
    "\n",
    "i = 0\n",
    "\n",
    "while i < len(res_list):\n",
    "    candidates_new = []\n",
    "    valid_candidates = []\n",
    "    for candidate in candidates_ini:\n",
    "        a = candidate\n",
    "        b = a%8\n",
    "        b = b^3\n",
    "        c = a >> b\n",
    "        b = b^5\n",
    "        a = a >> 3\n",
    "        b = b^c\n",
    "        if b%8 == res_list[i]: \n",
    "            valid_candidates.append(candidate)\n",
    "            candidates_new.extend([x for x in range (candidate << 3, (candidate << 3) + 8)])\n",
    "    candidates_ini = candidates_new\n",
    "    i += 1\n",
    "\n",
    "# print the smallest valid candidate! boom!\n",
    "valid_candidates.sort()\n",
    "valid_candidates[0]"
   ]
  }
 ],
 "metadata": {
  "kernelspec": {
   "display_name": "env",
   "language": "python",
   "name": "python3"
  },
  "language_info": {
   "codemirror_mode": {
    "name": "ipython",
    "version": 3
   },
   "file_extension": ".py",
   "mimetype": "text/x-python",
   "name": "python",
   "nbconvert_exporter": "python",
   "pygments_lexer": "ipython3",
   "version": "3.11.7"
  }
 },
 "nbformat": 4,
 "nbformat_minor": 2
}
