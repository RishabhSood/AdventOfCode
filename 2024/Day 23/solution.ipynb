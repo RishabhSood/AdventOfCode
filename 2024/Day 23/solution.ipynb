{
 "cells": [
  {
   "cell_type": "markdown",
   "metadata": {},
   "source": [
    "Input"
   ]
  },
  {
   "cell_type": "code",
   "execution_count": 34,
   "metadata": {},
   "outputs": [],
   "source": [
    "file_path = \"input.txt\"  # Path to the input file\n",
    "\n",
    "with open(file_path, \"r\") as f:\n",
    "    data = f.read()\n",
    "\n",
    "connections = data.split('\\n')\n",
    "adj_list = {}\n",
    "\n",
    "for c in connections:\n",
    "    a, b = c.split('-')\n",
    "    if a not in adj_list: adj_list[a] = []\n",
    "    if b not in adj_list: adj_list[b] = []\n",
    "    adj_list[a].append(b)\n",
    "    adj_list[b].append(a)"
   ]
  },
  {
   "cell_type": "markdown",
   "metadata": {},
   "source": [
    "Part 1"
   ]
  },
  {
   "cell_type": "code",
   "execution_count": 57,
   "metadata": {},
   "outputs": [
    {
     "name": "stdout",
     "output_type": "stream",
     "text": [
      "1330\n"
     ]
    }
   ],
   "source": [
    "comp_sets = set()\n",
    "\n",
    "# the idea is that for a LAN/CLIQUE each node will have all nodes of the clique in its adjcency list itself\n",
    "for node in adj_list:\n",
    "    for i, n1 in enumerate(adj_list[node]):\n",
    "        for n2 in adj_list[node][i + 1:]:\n",
    "            if n2 in adj_list[n1]:\n",
    "                lan = tuple(sorted([node, n1, n2]))\n",
    "                if any(x.startswith('t') for x in lan):\n",
    "                    comp_sets.add(lan)\n",
    "\n",
    "print(len(comp_sets))"
   ]
  },
  {
   "cell_type": "markdown",
   "metadata": {},
   "source": [
    "Part 2"
   ]
  },
  {
   "cell_type": "code",
   "execution_count": 55,
   "metadata": {},
   "outputs": [
    {
     "data": {
      "text/plain": [
       "'hl,io,ku,pk,ps,qq,sh,tx,ty,wq,xi,xj,yp'"
      ]
     },
     "execution_count": 55,
     "metadata": {},
     "output_type": "execute_result"
    }
   ],
   "source": [
    "def bron_kerbosch(R, P, X):\n",
    "    if not P and not X:\n",
    "        cliques.append(R)\n",
    "        return\n",
    "    for v in list(P):\n",
    "        bron_kerbosch(R | {v}, P & set(adj_list[v]), X & set(adj_list[v]))\n",
    "        P.remove(v)\n",
    "        X.add(v)\n",
    "\n",
    "cliques = []\n",
    "\n",
    "bron_kerbosch(set(), set(adj_list.keys()), set())\n",
    "largest_clique = list(max(cliques, key=len))\n",
    "largest_clique.sort()\n",
    "\n",
    "','.join(largest_clique)"
   ]
  }
 ],
 "metadata": {
  "kernelspec": {
   "display_name": "env",
   "language": "python",
   "name": "python3"
  },
  "language_info": {
   "codemirror_mode": {
    "name": "ipython",
    "version": 3
   },
   "file_extension": ".py",
   "mimetype": "text/x-python",
   "name": "python",
   "nbconvert_exporter": "python",
   "pygments_lexer": "ipython3",
   "version": "3.13.0"
  }
 },
 "nbformat": 4,
 "nbformat_minor": 2
}
