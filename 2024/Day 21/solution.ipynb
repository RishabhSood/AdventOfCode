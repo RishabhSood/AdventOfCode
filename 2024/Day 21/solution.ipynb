{
 "cells": [
  {
   "cell_type": "markdown",
   "metadata": {},
   "source": [
    "Input"
   ]
  },
  {
   "cell_type": "code",
   "execution_count": 89,
   "metadata": {},
   "outputs": [],
   "source": [
    "file_path = \"input.txt\"  # Path to the input file\n",
    "\n",
    "with open(file_path, \"r\") as f:\n",
    "    data = f.read()\n",
    "\n",
    "codes = data.split('\\n')"
   ]
  },
  {
   "cell_type": "markdown",
   "metadata": {},
   "source": [
    "#### Initial Attempt: Rank 783\n",
    "\n",
    "> Sadly the optimized approach below only works till depth 10"
   ]
  },
  {
   "cell_type": "code",
   "execution_count": 37,
   "metadata": {},
   "outputs": [],
   "source": [
    "# +---+---+---+\n",
    "# | 7 | 8 | 9 |\n",
    "# +---+---+---+\n",
    "# | 4 | 5 | 6 |\n",
    "# +---+---+---+\n",
    "# | 1 | 2 | 3 |\n",
    "# +---+---+---+\n",
    "#     | 0 | A |\n",
    "#     +---+---+\n",
    "\n",
    "numeric_keyboard = {\n",
    "    '0': [('>', 'A'), ('^', '2')],\n",
    "    '1': [('^', '4'), ('>', '2')],\n",
    "    '2': [('<', '1'), ('>', '3'), ('^', '5'), ('v', '0')],\n",
    "    '3': [('^', '6'), ('<', '2'), ('v', 'A')],\n",
    "    '4': [('^', '7'), ('v', '1'), ('>', '5')],\n",
    "    '5': [('<', '4'), ('>', '6'), ('^', '8'), ('v', '2')],\n",
    "    '6': [('^', '9'), ('<', '5'), ('v', '3')],\n",
    "    '7': [('>', '8'), ('v', '4')],\n",
    "    '8': [('v', '5'), ('<', '7'), ('>', '9')],\n",
    "    '9': [('<', '8'), ('v', '6')],\n",
    "    'A': [('^', '3'), ('<', '0')]\n",
    "}\n",
    "\n",
    "#     +---+---+\n",
    "#     | ^ | A |\n",
    "# +---+---+---+\n",
    "# | < | v | > |\n",
    "# +---+---+---+\n",
    "direction_keyboard = {\n",
    "    '^': [('v', 'v'), ('>', 'A')],\n",
    "    'A': [('v', '>'), ('<', '^')],\n",
    "    '<': [('>', 'v')],\n",
    "    'v': [('^', '^'), ('<', '<'), ('>', '>')],\n",
    "    '>': [('^', 'A'), ('<', 'v')],\n",
    "}"
   ]
  },
  {
   "cell_type": "code",
   "execution_count": 38,
   "metadata": {},
   "outputs": [],
   "source": [
    "from collections import deque\n",
    "\n",
    "# BFS\n",
    "def bfs_all_shortest_paths(keyboard, start, end):\n",
    "    queue = deque([(start, \"\")])  # (current position, path)\n",
    "    visited = {start: 0}  # Tracks shortest distance to each node\n",
    "    paths = []\n",
    "\n",
    "    while queue:\n",
    "        current, path = queue.popleft()\n",
    "        \n",
    "        # If we reach the end, add path to results\n",
    "        if current == end:\n",
    "            paths.append(path)\n",
    "            continue\n",
    "        \n",
    "        # Expand neighbors\n",
    "        for move, neighbor in keyboard[current]:\n",
    "            new_path = path + move\n",
    "            if neighbor not in visited:\n",
    "                visited[neighbor] = len(new_path)\n",
    "                queue.append((neighbor, new_path))\n",
    "            # Allow paths of equal length\n",
    "            elif len(new_path) == visited[neighbor]:\n",
    "                queue.append((neighbor, new_path))\n",
    "    \n",
    "    return paths\n",
    "\n",
    "\n",
    "# Generate all-pairs shortest paths\n",
    "def generate_all_shortest_paths(keyboard):\n",
    "    keys = list(keyboard.keys())\n",
    "    all_paths = {k: {} for k in keys}  # Nested dictionary for paths\n",
    "\n",
    "    for start in keys:\n",
    "        for end in keys:\n",
    "            if start == end:\n",
    "                all_paths[start][end] = [\"\"]  # Trivial path for self-loop\n",
    "            else:\n",
    "                all_paths[start][end] = bfs_all_shortest_paths(keyboard, start, end)\n",
    "    return all_paths\n",
    "\n",
    "from itertools import product\n",
    "\n",
    "def generate_combinations(paths):\n",
    "    # Generate all combinations by taking one element from each sublist\n",
    "    all_combinations = product(*paths)\n",
    "    \n",
    "    results = []\n",
    "    for combo in all_combinations:\n",
    "        result = ''.join(combo)\n",
    "        results.append(result)\n",
    "    \n",
    "    return results"
   ]
  },
  {
   "cell_type": "code",
   "execution_count": 39,
   "metadata": {},
   "outputs": [],
   "source": [
    "shortest_paths_directional = generate_all_shortest_paths(direction_keyboard)\n",
    "ref_paths_directional = generate_all_shortest_paths(direction_keyboard)\n",
    "\n",
    "for k in shortest_paths_directional.keys():\n",
    "    for k_n in shortest_paths_directional[k]:\n",
    "        if len(shortest_paths_directional[k][k_n]) == 1:\n",
    "            shortest_paths_directional[k][k_n] = shortest_paths_directional[k][k_n][0]\n",
    "        else:\n",
    "            candidate = \"\"\n",
    "            min_sz = 100\n",
    "            for pattern in shortest_paths_directional[k][k_n]:\n",
    "                patch_pattern = 'A' + pattern + 'A'\n",
    "                moves_curr_sub = []\n",
    "                for (x, y) in zip(patch_pattern, patch_pattern[1:]):\n",
    "                    if x != y: moves_curr_sub.append(ref_paths_directional[x][y])\n",
    "                    moves_curr_sub.append(['A'])\n",
    "                moves_curr_sub = generate_combinations(moves_curr_sub)\n",
    "\n",
    "                len_gen = min(len(m) for m in moves_curr_sub)\n",
    "                if len_gen < min_sz: \n",
    "                    min_sz = len_gen\n",
    "                    candidate = pattern\n",
    "            shortest_paths_directional[k][k_n] = candidate\n",
    "\n",
    "shortest_paths_numeric = generate_all_shortest_paths(numeric_keyboard)\n",
    "\n",
    "for k in shortest_paths_numeric.keys():\n",
    "    for k_n in shortest_paths_numeric[k]:\n",
    "        if len(shortest_paths_numeric[k][k_n]) == 1: continue\n",
    "        candidates = []\n",
    "        min_sz = 100\n",
    "        for pattern in shortest_paths_numeric[k][k_n]:\n",
    "            patch_pattern = 'A' + pattern + 'A'\n",
    "            moves_curr_sub = []\n",
    "            for (x, y) in zip(patch_pattern, patch_pattern[1:]):\n",
    "                if x != y: moves_curr_sub.append(ref_paths_directional[x][y])\n",
    "                moves_curr_sub.append(['A'])\n",
    "            moves_curr_sub = generate_combinations(moves_curr_sub)\n",
    "\n",
    "            len_gen = min(len(m) for m in moves_curr_sub)\n",
    "            if len_gen < min_sz: \n",
    "                min_sz = len_gen\n",
    "                candidates = [pattern]\n",
    "            elif len_gen == min_sz:\n",
    "                candidates.append(pattern)\n",
    "\n",
    "        shortest_paths_numeric[k][k_n] = candidates"
   ]
  },
  {
   "cell_type": "code",
   "execution_count": null,
   "metadata": {},
   "outputs": [],
   "source": [
    "from tqdm import tqdm\n",
    "\n",
    "def process_pattern(pattern):\n",
    "    initial_key = 'A'\n",
    "    patch_pattern = initial_key + pattern\n",
    "    moves1 = []\n",
    "    for (x, y) in zip(patch_pattern, patch_pattern[1:]):\n",
    "        if x != y: moves1.append(shortest_paths_numeric[x][y])\n",
    "        moves1.append(['A'])\n",
    "\n",
    "    moves_prev = generate_combinations(moves1)\n",
    "    moves_curr = []\n",
    "    for i in tqdm(range(20)):\n",
    "        moves_curr = []\n",
    "        for moves in moves_prev:\n",
    "            patch_pattern = initial_key + moves\n",
    "            moves_curr_sub = ''\n",
    "            for (x, y) in zip(patch_pattern, patch_pattern[1:]):\n",
    "                if x != y: moves_curr_sub += shortest_paths_directional[x][y]\n",
    "                moves_curr_sub += 'A'\n",
    "            moves_curr.append(moves_curr_sub)\n",
    "        moves_curr = list(set(moves_curr))\n",
    "        moves_prev = moves_curr\n",
    "        moves_curr = []\n",
    "    \n",
    "    digs = int(''.join([char for char in pattern if char.isdigit()]))\n",
    "    return min(len(m) for m in moves_prev)*digs\n",
    "\n",
    "sm = 0\n",
    "for code in codes: sm += process_pattern(code)\n",
    "sm"
   ]
  },
  {
   "cell_type": "markdown",
   "metadata": {},
   "source": [
    "#### Optimized"
   ]
  },
  {
   "cell_type": "markdown",
   "metadata": {},
   "source": [
    "Common"
   ]
  },
  {
   "cell_type": "code",
   "execution_count": 43,
   "metadata": {},
   "outputs": [],
   "source": [
    "## new way of representing by row and column coords\n",
    "\n",
    "# +---+---+---+\n",
    "# | 7 | 8 | 9 |\n",
    "# +---+---+---+\n",
    "# | 4 | 5 | 6 |\n",
    "# +---+---+---+\n",
    "# | 1 | 2 | 3 |\n",
    "# +---+---+---+\n",
    "#     | 0 | A |\n",
    "#     +---+---+\n",
    "\n",
    "numeric_keypad = {\n",
    "    \"7\": (0, 0),\n",
    "    \"8\": (0, 1),\n",
    "    \"9\": (0, 2),\n",
    "    \"4\": (1, 0),\n",
    "    \"5\": (1, 1),\n",
    "    \"6\": (1, 2),\n",
    "    \"1\": (2, 0),\n",
    "    \"2\": (2, 1),\n",
    "    \"3\": (2, 2),\n",
    "    \"0\": (3, 1),\n",
    "    \"A\": (3, 2)\n",
    "}\n",
    "\n",
    "#     +---+---+\n",
    "#     | ^ | A |\n",
    "# +---+---+---+\n",
    "# | < | v | > |\n",
    "# +---+---+---+\n",
    "direction_keypad = {\n",
    "    \"^\": (0, 1),\n",
    "    \"A\": (0, 2),\n",
    "    \"<\": (1, 0),\n",
    "    \"v\": (1, 1),\n",
    "    \">\": (1, 2)\n",
    "}\n",
    "\n",
    "dd = {\n",
    "    \">\": (0, 1),\n",
    "    \"v\": (1, 0),\n",
    "    \"<\": (0, -1),\n",
    "    \"^\": (-1, 0)\n",
    "}"
   ]
  },
  {
   "cell_type": "code",
   "execution_count": 93,
   "metadata": {},
   "outputs": [],
   "source": [
    "import sys\n",
    "from functools import lru_cache\n",
    "from itertools import permutations \n",
    "\n",
    "@lru_cache(None)\n",
    "def generate_ways(a, b, keypad): # generate ways to go from key_a to key_b on a given board\n",
    "    keypad = direction_keypad if keypad else numeric_keypad\n",
    "\n",
    "    x, y = keypad[a], keypad[b]\n",
    "    di, dj = y[0] - x[0], y[1] - x[1]\n",
    "\n",
    "    moves = \"\"\n",
    "    if di > 0: moves += \"v\"*di\n",
    "    else: moves += \"^\"*-di\n",
    "    if dj > 0: moves += \">\"*dj\n",
    "    else: moves += \"<\"*-dj\n",
    "\n",
    "    combo_moves = [''.join(x) + 'A' for x in list(set(permutations(moves)))]\n",
    "    valid_moves = []\n",
    "\n",
    "    for mv in combo_moves:\n",
    "        ci, cj = x\n",
    "        flag = True\n",
    "        for d in mv[:-1]:\n",
    "            di, dj = dd[d] \n",
    "            ci, cj = di + ci, dj + cj\n",
    "            if (ci, cj) not in keypad.values(): \n",
    "                flag = False\n",
    "                break\n",
    "        if flag: valid_moves.append(mv)\n",
    "    \n",
    "    return valid_moves\n",
    "\n",
    "@lru_cache\n",
    "def keystrokes(a, b, keypad, chain):\n",
    "    if chain == 0: return min([len(x) for x in generate_ways(a, b, True)])\n",
    "    ways = generate_ways(a, b, keypad) # we start with numeric keypad in first iteration then move on to direction keypad\n",
    "    min_strokes = sys.maxsize\n",
    "\n",
    "    for way in ways:\n",
    "        patch_way = f\"A{way}\" # we start with key A\n",
    "        strokes = 0\n",
    "        for x, y in zip(patch_way, patch_way[1:]):\n",
    "            strokes += keystrokes(x, y, True, chain-1)\n",
    "        min_strokes = min(min_strokes, strokes)\n",
    "    \n",
    "    return min_strokes\n"
   ]
  },
  {
   "cell_type": "code",
   "execution_count": 96,
   "metadata": {},
   "outputs": [],
   "source": [
    "def code_cost(code, chain):\n",
    "    patch_code = \"A\" + code\n",
    "    strokes = 0\n",
    "    for x, y in zip(patch_code, patch_code[1:]):\n",
    "        strokes += keystrokes(x, y, False, chain)\n",
    "    return strokes * int(code[:-1])"
   ]
  },
  {
   "cell_type": "markdown",
   "metadata": {},
   "source": [
    "Part 1"
   ]
  },
  {
   "cell_type": "code",
   "execution_count": 98,
   "metadata": {},
   "outputs": [
    {
     "data": {
      "text/plain": [
       "197560"
      ]
     },
     "execution_count": 98,
     "metadata": {},
     "output_type": "execute_result"
    }
   ],
   "source": [
    "ans = 0\n",
    "for code in codes: ans += code_cost(code, 2)\n",
    "ans"
   ]
  },
  {
   "cell_type": "markdown",
   "metadata": {},
   "source": [
    "Part 2"
   ]
  },
  {
   "cell_type": "code",
   "execution_count": 103,
   "metadata": {},
   "outputs": [
    {
     "data": {
      "text/plain": [
       "242337182910752"
      ]
     },
     "execution_count": 103,
     "metadata": {},
     "output_type": "execute_result"
    }
   ],
   "source": [
    "ans = 0\n",
    "for code in codes: ans += code_cost(code, 25)\n",
    "ans"
   ]
  }
 ],
 "metadata": {
  "kernelspec": {
   "display_name": "env",
   "language": "python",
   "name": "python3"
  },
  "language_info": {
   "codemirror_mode": {
    "name": "ipython",
    "version": 3
   },
   "file_extension": ".py",
   "mimetype": "text/x-python",
   "name": "python",
   "nbconvert_exporter": "python",
   "pygments_lexer": "ipython3",
   "version": "3.13.0"
  }
 },
 "nbformat": 4,
 "nbformat_minor": 2
}
