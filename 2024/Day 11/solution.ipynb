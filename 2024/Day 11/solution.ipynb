{
 "cells": [
  {
   "cell_type": "markdown",
   "metadata": {},
   "source": [
    "Part 1"
   ]
  },
  {
   "cell_type": "code",
   "execution_count": 1,
   "metadata": {},
   "outputs": [
    {
     "name": "stdout",
     "output_type": "stream",
     "text": [
      "212655\n"
     ]
    }
   ],
   "source": [
    "stones = \"4 4841539 66 5279 49207 134 609568 0\"\n",
    "stones = [int(stone) for stone in stones.split(' ')]\n",
    "\n",
    "def cnt_digits(num):\n",
    "    return len(str(num))\n",
    "\n",
    "def split_stone(stone, digs):\n",
    "    stone_str = str(stone)\n",
    "    mid = digs // 2\n",
    "    left = int(stone_str[:mid])\n",
    "    right = int(stone_str[mid:])\n",
    "    return [left, right]\n",
    "\n",
    "def split_stones(stones):\n",
    "    new_stone_list = []\n",
    "    for stone in stones:\n",
    "        if stone == 0: \n",
    "            new_stone_list.append(1)\n",
    "            continue\n",
    "        num_digs = cnt_digits(stone)\n",
    "        if num_digs % 2 == 0:\n",
    "            new_stone_list.extend(split_stone(stone, num_digs))\n",
    "        else:\n",
    "            new_stone_list.append(stone * 2024)\n",
    "    return new_stone_list\n",
    "\n",
    "for i in range(25):\n",
    "    stones = split_stones(stones)\n",
    "\n",
    "print(len(stones))"
   ]
  },
  {
   "cell_type": "markdown",
   "metadata": {},
   "source": [
    "Part 2"
   ]
  },
  {
   "cell_type": "code",
   "execution_count": 40,
   "metadata": {},
   "outputs": [
    {
     "name": "stdout",
     "output_type": "stream",
     "text": [
      "Iteration 0: Total stones = 11\n",
      "Iteration 1: Total stones = 17\n",
      "Iteration 2: Total stones = 22\n",
      "Iteration 3: Total stones = 35\n",
      "Iteration 4: Total stones = 46\n",
      "Iteration 5: Total stones = 76\n",
      "Iteration 6: Total stones = 124\n",
      "Iteration 7: Total stones = 185\n",
      "Iteration 8: Total stones = 264\n",
      "Iteration 9: Total stones = 384\n",
      "Iteration 10: Total stones = 629\n",
      "Iteration 11: Total stones = 932\n",
      "Iteration 12: Total stones = 1389\n",
      "Iteration 13: Total stones = 2164\n",
      "Iteration 14: Total stones = 3265\n",
      "Iteration 15: Total stones = 4885\n",
      "Iteration 16: Total stones = 7545\n",
      "Iteration 17: Total stones = 11503\n",
      "Iteration 18: Total stones = 17390\n",
      "Iteration 19: Total stones = 25971\n",
      "Iteration 20: Total stones = 39761\n",
      "Iteration 21: Total stones = 61414\n",
      "Iteration 22: Total stones = 91937\n",
      "Iteration 23: Total stones = 139453\n",
      "Iteration 24: Total stones = 212655\n",
      "Iteration 25: Total stones = 322634\n",
      "Iteration 26: Total stones = 491437\n",
      "Iteration 27: Total stones = 743357\n",
      "Iteration 28: Total stones = 1132057\n",
      "Iteration 29: Total stones = 1719097\n",
      "Iteration 30: Total stones = 2601712\n",
      "Iteration 31: Total stones = 3972539\n",
      "Iteration 32: Total stones = 6024241\n",
      "Iteration 33: Total stones = 9132324\n",
      "Iteration 34: Total stones = 13895215\n",
      "Iteration 35: Total stones = 21083088\n",
      "Iteration 36: Total stones = 32078062\n",
      "Iteration 37: Total stones = 48664766\n",
      "Iteration 38: Total stones = 73864762\n",
      "Iteration 39: Total stones = 112414503\n",
      "Iteration 40: Total stones = 170461693\n",
      "Iteration 41: Total stones = 259072135\n",
      "Iteration 42: Total stones = 393714036\n",
      "Iteration 43: Total stones = 597426089\n",
      "Iteration 44: Total stones = 908241074\n",
      "Iteration 45: Total stones = 1378665867\n",
      "Iteration 46: Total stones = 2094659258\n",
      "Iteration 47: Total stones = 3182906227\n",
      "Iteration 48: Total stones = 4830279714\n",
      "Iteration 49: Total stones = 7342210845\n",
      "Iteration 50: Total stones = 11150232662\n",
      "Iteration 51: Total stones = 16931921962\n",
      "Iteration 52: Total stones = 25730279215\n",
      "Iteration 53: Total stones = 39064320748\n",
      "Iteration 54: Total stones = 59353017846\n",
      "Iteration 55: Total stones = 90151476500\n",
      "Iteration 56: Total stones = 136898867952\n",
      "Iteration 57: Total stones = 208019661131\n",
      "Iteration 58: Total stones = 315870671272\n",
      "Iteration 59: Total stones = 479816106065\n",
      "Iteration 60: Total stones = 728913299023\n",
      "Iteration 61: Total stones = 1106902965599\n",
      "Iteration 62: Total stones = 1681662442279\n",
      "Iteration 63: Total stones = 2554026071286\n",
      "Iteration 64: Total stones = 3879285942073\n",
      "Iteration 65: Total stones = 5893183115020\n",
      "Iteration 66: Total stones = 8949717898402\n",
      "Iteration 67: Total stones = 13595607412041\n",
      "Iteration 68: Total stones = 20650402428404\n",
      "Iteration 69: Total stones = 31363981583181\n",
      "Iteration 70: Total stones = 47645163729231\n",
      "Iteration 71: Total stones = 72362384310344\n",
      "Iteration 72: Total stones = 109917642225466\n",
      "Iteration 73: Total stones = 166960927074834\n",
      "Iteration 74: Total stones = 253582809724830\n",
      "Final total stones: 253582809724830\n"
     ]
    }
   ],
   "source": [
    "from collections import Counter\n",
    "\n",
    "# Initialize stones as a dictionary of counts\n",
    "stones = \"4 4841539 66 5279 49207 134 609568 0\"\n",
    "stone_counts = Counter([int(stone) for stone in stones.split(' ')])\n",
    "\n",
    "def process_stones(stone_counts):\n",
    "    new_counts = Counter()\n",
    "    for stone, count in stone_counts.items():\n",
    "        if stone == 0:\n",
    "            new_counts[1] += count\n",
    "        else:\n",
    "            num_digs = len(str(stone))\n",
    "            if num_digs % 2 == 0:\n",
    "                mid = num_digs // 2\n",
    "                stone_str = str(stone)\n",
    "                left = int(stone_str[:mid])\n",
    "                right = int(stone_str[mid:])\n",
    "                new_counts[left] += count\n",
    "                new_counts[right] += count\n",
    "            else:\n",
    "                new_counts[stone * 2024] += count\n",
    "    return new_counts\n",
    "\n",
    "for i in range(75):\n",
    "    stone_counts = process_stones(stone_counts)\n",
    "    total_stones = sum(stone_counts.values())\n",
    "    print(f\"Iteration {i}: Total stones = {total_stones}\")\n",
    "\n",
    "print(f\"Final total stones: {sum(stone_counts.values())}\")"
   ]
  }
 ],
 "metadata": {
  "kernelspec": {
   "display_name": "env",
   "language": "python",
   "name": "python3"
  },
  "language_info": {
   "codemirror_mode": {
    "name": "ipython",
    "version": 3
   },
   "file_extension": ".py",
   "mimetype": "text/x-python",
   "name": "python",
   "nbconvert_exporter": "python",
   "pygments_lexer": "ipython3",
   "version": "3.11.7"
  }
 },
 "nbformat": 4,
 "nbformat_minor": 2
}
