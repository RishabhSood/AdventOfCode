{
 "cells": [
  {
   "cell_type": "markdown",
   "metadata": {},
   "source": [
    "Input"
   ]
  },
  {
   "cell_type": "code",
   "execution_count": 21,
   "metadata": {},
   "outputs": [],
   "source": [
    "file_path = \"input.txt\"  # Path to the input file\n",
    "\n",
    "with open(file_path, \"r\") as f:\n",
    "    data = f.read()\n",
    "\n",
    "grid = [[x for x in row] for row in data.split('\\n')]\n",
    "numbers = [str(x) for x in range(10)]\n",
    "m = len(grid)\n",
    "n = len(grid[0])"
   ]
  },
  {
   "cell_type": "markdown",
   "metadata": {},
   "source": [
    "Part 1"
   ]
  },
  {
   "cell_type": "code",
   "execution_count": 22,
   "metadata": {},
   "outputs": [],
   "source": [
    "special_char_locs = set()\n",
    "\n",
    "for i in range(m):\n",
    "    for j in range(n):\n",
    "        if grid[i][j] not in numbers + ['.']:\n",
    "            special_char_locs.add((i, j))"
   ]
  },
  {
   "cell_type": "code",
   "execution_count": 23,
   "metadata": {},
   "outputs": [
    {
     "data": {
      "text/plain": [
       "522726"
      ]
     },
     "execution_count": 23,
     "metadata": {},
     "output_type": "execute_result"
    }
   ],
   "source": [
    "dirs = [[0, 1], [0, -1], [1, 0], [-1, 0], [1, 1], [-1, 1], [1, -1], [-1, -1]]\n",
    "\n",
    "# identify all numbers\n",
    "sm = 0\n",
    "for i in range(m):\n",
    "    j = 0\n",
    "    while(j < n):\n",
    "        num = ''\n",
    "        part = False\n",
    "        while j < n and grid[i][j] in numbers: \n",
    "            num += grid[i][j]\n",
    "            if not part:\n",
    "                for dir in dirs:\n",
    "                    ni, nj = i + dir[0], j + dir[1]\n",
    "                    if (ni, nj) in special_char_locs: \n",
    "                        part = True\n",
    "                        break\n",
    "            j += 1\n",
    "        if part: sm += int(num)\n",
    "        j += 1\n",
    "\n",
    "sm"
   ]
  },
  {
   "cell_type": "markdown",
   "metadata": {},
   "source": [
    "Part 2"
   ]
  },
  {
   "cell_type": "code",
   "execution_count": 24,
   "metadata": {},
   "outputs": [],
   "source": [
    "special_char_locs = set()\n",
    "\n",
    "for i in range(m):\n",
    "    for j in range(n):\n",
    "        if grid[i][j] == '*':\n",
    "            special_char_locs.add((i, j))"
   ]
  },
  {
   "cell_type": "code",
   "execution_count": 27,
   "metadata": {},
   "outputs": [
    {
     "data": {
      "text/plain": [
       "81721933"
      ]
     },
     "execution_count": 27,
     "metadata": {},
     "output_type": "execute_result"
    }
   ],
   "source": [
    "dirs = [[0, 1], [0, -1], [1, 0], [-1, 0], [1, 1], [-1, 1], [1, -1], [-1, -1]]\n",
    "mp_gear_nums = {}\n",
    "\n",
    "# identify all numbers\n",
    "for i in range(m):\n",
    "    j = 0\n",
    "    while(j < n):\n",
    "        num = ''\n",
    "        part = None\n",
    "        while j < n and grid[i][j] in numbers: \n",
    "            num += grid[i][j]\n",
    "            if not part:\n",
    "                for dir in dirs:\n",
    "                    ni, nj = i + dir[0], j + dir[1]\n",
    "                    if (ni, nj) in special_char_locs: \n",
    "                        part = (ni, nj)\n",
    "                        break\n",
    "            j += 1\n",
    "        if part: \n",
    "            if not part in mp_gear_nums: mp_gear_nums[part] = []\n",
    "            mp_gear_nums[part].append(int(num))\n",
    "        j += 1\n",
    "\n",
    "sm = 0\n",
    "for v in mp_gear_nums.values():\n",
    "    if len(v) == 2: sm += v[0]*v[1]\n",
    "sm"
   ]
  }
 ],
 "metadata": {
  "kernelspec": {
   "display_name": "env",
   "language": "python",
   "name": "python3"
  },
  "language_info": {
   "codemirror_mode": {
    "name": "ipython",
    "version": 3
   },
   "file_extension": ".py",
   "mimetype": "text/x-python",
   "name": "python",
   "nbconvert_exporter": "python",
   "pygments_lexer": "ipython3",
   "version": "3.13.0"
  }
 },
 "nbformat": 4,
 "nbformat_minor": 2
}
