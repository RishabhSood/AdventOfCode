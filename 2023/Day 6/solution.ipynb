{
 "cells": [
  {
   "cell_type": "markdown",
   "metadata": {},
   "source": [
    "Input"
   ]
  },
  {
   "cell_type": "code",
   "execution_count": 18,
   "metadata": {},
   "outputs": [],
   "source": [
    "file_path = \"input.txt\"  # Path to the input file\n",
    "\n",
    "import re\n",
    "\n",
    "with open(file_path, \"r\") as f:\n",
    "    data = f.read()\n",
    "\n",
    "times, records = data.split('\\n')\n",
    "times = [int(x) for x in re.findall(r'\\d+', times)]\n",
    "records = [int(x) for x in re.findall(r'\\d+', records)]\n",
    "\n",
    "races = [(x, y) for x, y in zip(times, records)]"
   ]
  },
  {
   "cell_type": "markdown",
   "metadata": {},
   "source": [
    "Part 1"
   ]
  },
  {
   "cell_type": "code",
   "execution_count": 19,
   "metadata": {},
   "outputs": [
    {
     "data": {
      "text/plain": [
       "4811940"
      ]
     },
     "execution_count": 19,
     "metadata": {},
     "output_type": "execute_result"
    }
   ],
   "source": [
    "from math import sqrt, floor, ceil\n",
    "res = 1\n",
    "\n",
    "for race in races:\n",
    "    t, r = race\n",
    "    d = sqrt(t**2 - 4*r)\n",
    "    r1, r2 = ceil((t + d)/2 - 1), floor((t - d)/2 + 1)\n",
    "    res *= r1 - r2 + 1\n",
    "\n",
    "res"
   ]
  },
  {
   "cell_type": "markdown",
   "metadata": {},
   "source": [
    "Part 2"
   ]
  },
  {
   "cell_type": "code",
   "execution_count": 22,
   "metadata": {},
   "outputs": [
    {
     "data": {
      "text/plain": [
       "30077773"
      ]
     },
     "execution_count": 22,
     "metadata": {},
     "output_type": "execute_result"
    }
   ],
   "source": [
    "from math import sqrt, floor, ceil\n",
    "res = 1\n",
    "\n",
    "t, r = int(''.join([str(x) for x in times])), int(''.join([str(r) for r in records]))\n",
    "\n",
    "d = sqrt(t**2 - 4*r)\n",
    "r1, r2 = ceil((t + d)/2 - 1), floor((t - d)/2 + 1)\n",
    "res *= r1 - r2 + 1\n",
    "\n",
    "res"
   ]
  }
 ],
 "metadata": {
  "kernelspec": {
   "display_name": "env",
   "language": "python",
   "name": "python3"
  },
  "language_info": {
   "codemirror_mode": {
    "name": "ipython",
    "version": 3
   },
   "file_extension": ".py",
   "mimetype": "text/x-python",
   "name": "python",
   "nbconvert_exporter": "python",
   "pygments_lexer": "ipython3",
   "version": "3.13.0"
  }
 },
 "nbformat": 4,
 "nbformat_minor": 2
}
