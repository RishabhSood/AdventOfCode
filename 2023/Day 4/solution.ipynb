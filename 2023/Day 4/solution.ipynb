{
 "cells": [
  {
   "cell_type": "markdown",
   "metadata": {},
   "source": [
    "Input"
   ]
  },
  {
   "cell_type": "code",
   "execution_count": 42,
   "metadata": {},
   "outputs": [],
   "source": [
    "file_path = \"input.txt\"  # Path to the input file\n",
    "\n",
    "with open(file_path, \"r\") as f:\n",
    "    data = f.read()\n",
    "\n",
    "import regex as re\n",
    "\n",
    "def process_line(line):\n",
    "    pattern = r'Card\\s+([\\d]+):\\s*([\\d\\s]+)\\|\\s*([\\d\\s]+)'\n",
    "\n",
    "    # Find matches\n",
    "    match = re.match(pattern, line)\n",
    "\n",
    "    if match:\n",
    "        # Split and convert to integers\n",
    "        list1 = list(map(int, match.group(2).split()))\n",
    "        list2 = list(map(int, match.group(3).split()))\n",
    "        \n",
    "        return int(match.group(1)), [set(list1), set(list2)]\n",
    "\n",
    "cards = {\n",
    "    k: v for row in data.split('\\n') if (result := process_line(row)) is not None for k, v in [result]\n",
    "}"
   ]
  },
  {
   "cell_type": "markdown",
   "metadata": {},
   "source": [
    "Part 1"
   ]
  },
  {
   "cell_type": "code",
   "execution_count": 24,
   "metadata": {},
   "outputs": [
    {
     "data": {
      "text/plain": [
       "19135"
      ]
     },
     "execution_count": 24,
     "metadata": {},
     "output_type": "execute_result"
    }
   ],
   "source": [
    "sm = 0\n",
    "for card in cards.values():\n",
    "    ints = len(card[0] & card[1])\n",
    "    if ints: sm += 2**(ints - 1)\n",
    "sm"
   ]
  },
  {
   "cell_type": "markdown",
   "metadata": {},
   "source": [
    "Part 2"
   ]
  },
  {
   "cell_type": "code",
   "execution_count": 43,
   "metadata": {},
   "outputs": [
    {
     "data": {
      "text/plain": [
       "5704953"
      ]
     },
     "execution_count": 43,
     "metadata": {},
     "output_type": "execute_result"
    }
   ],
   "source": [
    "from collections import deque\n",
    "\n",
    "cards_q = deque(list(cards.keys()))\n",
    "\n",
    "card_set = {}\n",
    "\n",
    "sm = len(cards_q)\n",
    "while len(cards_q):\n",
    "    elem = cards_q.popleft()\n",
    "    if elem not in card_set: card_set[elem] = [(elem + i) for i in range(1, len(cards[elem][0] & cards[elem][1]) + 1)]\n",
    "    cards_q.extend(card_set[elem])\n",
    "    sm += len(card_set[elem])\n",
    "\n",
    "sm"
   ]
  }
 ],
 "metadata": {
  "kernelspec": {
   "display_name": "env",
   "language": "python",
   "name": "python3"
  },
  "language_info": {
   "codemirror_mode": {
    "name": "ipython",
    "version": 3
   },
   "file_extension": ".py",
   "mimetype": "text/x-python",
   "name": "python",
   "nbconvert_exporter": "python",
   "pygments_lexer": "ipython3",
   "version": "3.13.0"
  }
 },
 "nbformat": 4,
 "nbformat_minor": 2
}
