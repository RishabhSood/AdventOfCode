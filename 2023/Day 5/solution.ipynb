{
 "cells": [
  {
   "cell_type": "markdown",
   "metadata": {},
   "source": [
    "Input"
   ]
  },
  {
   "cell_type": "code",
   "execution_count": 109,
   "metadata": {},
   "outputs": [],
   "source": [
    "file_path = \"input.txt\"  # Path to the input file\n",
    "\n",
    "with open(file_path, \"r\") as f:\n",
    "    data = f.read()\n",
    "\n",
    "from collections import OrderedDict\n",
    "\n",
    "# dest source range\n",
    "data = data.split('\\n\\n')\n",
    "seeds = list(map(int, data[0].split(':')[1].strip().split()))\n",
    "\n",
    "maps = []\n",
    "for mp in data[1:]:\n",
    "    mp = mp.split('\\n')[1:]\n",
    "\n",
    "    prev_map = {\n",
    "        kp[1]: [kp[0], kp[2]]\n",
    "        for line in mp\n",
    "        if line.strip() and (kp := list(map(int, line.split())))\n",
    "    }\n",
    "\n",
    "    prev_map = OrderedDict(sorted(prev_map.items()))\n",
    "    maps.append(prev_map)"
   ]
  },
  {
   "cell_type": "markdown",
   "metadata": {},
   "source": [
    "Part 1"
   ]
  },
  {
   "cell_type": "code",
   "execution_count": 111,
   "metadata": {},
   "outputs": [
    {
     "data": {
      "text/plain": [
       "331445006"
      ]
     },
     "execution_count": 111,
     "metadata": {},
     "output_type": "execute_result"
    }
   ],
   "source": [
    "from bisect import bisect_right\n",
    "\n",
    "def find_highest_key(t, mp):\n",
    "    kys = list(mp.keys())\n",
    "    idx = bisect_right(kys, t) - 1\n",
    "    if idx >= 0:\n",
    "        return kys[idx]\n",
    "    return -1\n",
    "\n",
    "curr_lvl = seeds\n",
    "\n",
    "for mp in maps:\n",
    "    nxt_lvl = []\n",
    "    for k in curr_lvl:\n",
    "        hk = find_highest_key(k, mp)\n",
    "        if hk == -1 or (k >= hk + mp[hk][1]): rk = k\n",
    "        else: rk = mp[hk][0] + (k - hk)\n",
    "        nxt_lvl.append(rk)\n",
    "    curr_lvl = nxt_lvl\n",
    "\n",
    "sorted(curr_lvl)[0]"
   ]
  },
  {
   "cell_type": "markdown",
   "metadata": {},
   "source": [
    "Part 2"
   ]
  },
  {
   "cell_type": "code",
   "execution_count": 113,
   "metadata": {},
   "outputs": [
    {
     "data": {
      "text/plain": [
       "6472060"
      ]
     },
     "execution_count": 113,
     "metadata": {},
     "output_type": "execute_result"
    }
   ],
   "source": [
    "# whoopingly large inputs, well F. Range mapping SMH\n",
    "\n",
    "def find_highest_key(t, mp):\n",
    "    kys = list(mp.keys())\n",
    "    idx = bisect_right(kys, t) - 1\n",
    "    if idx >= 0:\n",
    "        return idx\n",
    "    return -1  # No valid key found\n",
    "\n",
    "curr_ranges = [[seeds[i], seeds[i] + seeds[i+1] - 1] for i in range(0, len(seeds), 2)]\n",
    "\n",
    "for mp in maps:\n",
    "    mpks = list(mp.keys())\n",
    "\n",
    "    next_ranges = []\n",
    "    for r in curr_ranges:\n",
    "        new_ranges = []\n",
    "        hkl = find_highest_key(r[0], mp)\n",
    "        hkr = find_highest_key(r[1], mp)\n",
    "        if hkl == -1:\n",
    "            if hkr == -1: \n",
    "                new_ranges.append(r)\n",
    "                next_ranges.extend(new_ranges)\n",
    "                continue\n",
    "            split_ks = mpks[hkl+1:hkr+1]\n",
    "        else: split_ks = mpks[hkl:hkr+1]\n",
    "        \n",
    "        cnt = 0\n",
    "        for k in split_ks:\n",
    "            r_st = r[0] + cnt\n",
    "            if r_st < k: \n",
    "                new_ranges.append([r_st, k-1])\n",
    "                cnt += k - r_st\n",
    "            st = mp[k][0] + (r[0] + cnt - k)\n",
    "            en = mp[k][0] + min(mp[k][1] - 1, r[1] - k)\n",
    "\n",
    "            if en >= st:\n",
    "                new_ranges.append([st, en])\n",
    "                cnt += en - st + 1\n",
    "        \n",
    "        if cnt < r[1] - r[0] + 1: \n",
    "            new_ranges.append([r[0] + cnt, r[1]])\n",
    "        next_ranges.extend(new_ranges)\n",
    "    \n",
    "    curr_ranges = next_ranges\n",
    "\n",
    "curr_ranges.sort()\n",
    "curr_ranges[0][0]"
   ]
  }
 ],
 "metadata": {
  "kernelspec": {
   "display_name": "env",
   "language": "python",
   "name": "python3"
  },
  "language_info": {
   "codemirror_mode": {
    "name": "ipython",
    "version": 3
   },
   "file_extension": ".py",
   "mimetype": "text/x-python",
   "name": "python",
   "nbconvert_exporter": "python",
   "pygments_lexer": "ipython3",
   "version": "3.13.0"
  }
 },
 "nbformat": 4,
 "nbformat_minor": 2
}
